{
 "cells": [
  {
   "cell_type": "code",
   "execution_count": 1,
   "metadata": {
    "id": "p7DluQ2UoWxH"
   },
   "outputs": [],
   "source": [
    "# importing all the necessary libraries\n",
    "import re\n",
    "import string\n",
    "from collections import Counter\n",
    "import pandas as pd"
   ]
  },
  {
   "cell_type": "code",
   "execution_count": 2,
   "metadata": {
    "id": "SZw0K5OCtxuK"
   },
   "outputs": [],
   "source": [
    "# defining a function to open the file and return all the words in the corpus\n",
    "def read_corpus(filename):\n",
    "  with open(filename, 'r') as file:\n",
    "    lines = file.readlines()\n",
    "    words = []\n",
    "\n",
    "    for line in lines:\n",
    "      words += re.findall(r'\\w+', line.lower())\n",
    "\n",
    "  return words"
   ]
  },
  {
   "cell_type": "code",
   "execution_count": 3,
   "metadata": {
    "colab": {
     "base_uri": "https://localhost:8080/"
    },
    "id": "_gzNLjUJwTbA",
    "outputId": "49e52e09-9493-4baa-9b8b-3e9dba48fd9d"
   },
   "outputs": [
    {
     "name": "stdout",
     "output_type": "stream",
     "text": [
      "There are total 838130 words in the corpus.\n"
     ]
    }
   ],
   "source": [
    "#shakespeare data for training the model\n",
    "words = read_corpus('./shakespeare.txt')\n",
    "print('There are total {} words in the corpus.'.format(len(words)))"
   ]
  },
  {
   "cell_type": "code",
   "execution_count": 4,
   "metadata": {
    "colab": {
     "base_uri": "https://localhost:8080/"
    },
    "id": "rYISe_NTwk6d",
    "outputId": "70ef0695-abf4-4005-d078-658f94cfd790"
   },
   "outputs": [
    {
     "name": "stdout",
     "output_type": "stream",
     "text": [
      "There are total 22602 unique words in the corpus.\n"
     ]
    }
   ],
   "source": [
    "vocabs = set(words)\n",
    "print('There are total {} unique words in the corpus.'.format(len(vocabs)))"
   ]
  },
  {
   "cell_type": "code",
   "execution_count": 5,
   "metadata": {
    "colab": {
     "base_uri": "https://localhost:8080/"
    },
    "id": "BaHRdVTfxdY7",
    "outputId": "a035b037-9e79-4226-e639-fc7fffbb9505"
   },
   "outputs": [
    {
     "name": "stdout",
     "output_type": "stream",
     "text": [
      "1996\n"
     ]
    }
   ],
   "source": [
    "#using Counter to find the frequency in the corpus\n",
    "word_count = Counter(words)\n",
    "print(word_count['love'])"
   ]
  },
  {
   "cell_type": "code",
   "execution_count": 6,
   "metadata": {
    "id": "ZmxD2p53yP3D"
   },
   "outputs": [],
   "source": [
    "total_word_count = float(sum(word_count.values()))\n",
    "word_prob = {word: word_count[word]/total_word_count for word in word_count.keys()}"
   ]
  },
  {
   "cell_type": "code",
   "execution_count": 7,
   "metadata": {
    "colab": {
     "base_uri": "https://localhost:8080/"
    },
    "id": "zAHTsVWozhYu",
    "outputId": "eb98c9c1-aa60-44d7-9d16-55c1b69e1399"
   },
   "outputs": [
    {
     "name": "stdout",
     "output_type": "stream",
     "text": [
      "0.0023814921312922815 0.03227661579945832\n"
     ]
    }
   ],
   "source": [
    "#word_prob gives the probability of the occurrence of the word\n",
    "print(word_prob['love'], word_prob['the'])   #the probability of the is higher than the l"
   ]
  },
  {
   "cell_type": "code",
   "execution_count": 8,
   "metadata": {
    "id": "rR3AkL0fz9Ss"
   },
   "outputs": [],
   "source": [
    "# function to split the word in a sequential order as shown below\n",
    "def split(word):\n",
    "  return [(word[:i], word[i:]) for i in range(len(word) + 1)]"
   ]
  },
  {
   "cell_type": "code",
   "execution_count": 9,
   "metadata": {
    "colab": {
     "base_uri": "https://localhost:8080/"
    },
    "id": "dBdGOXvI06PC",
    "outputId": "7db816da-da41-4716-f3d3-2bb745adb42a"
   },
   "outputs": [
    {
     "name": "stdout",
     "output_type": "stream",
     "text": [
      "[('', 'love'), ('l', 'ove'), ('lo', 've'), ('lov', 'e'), ('love', '')]\n"
     ]
    }
   ],
   "source": [
    " print(split('love'))     #splits the word in tuples of length 2"
   ]
  },
  {
   "cell_type": "code",
   "execution_count": 10,
   "metadata": {
    "id": "7-KR108w0-To"
   },
   "outputs": [],
   "source": [
    "#genrating all possible permutations (see below\")\n",
    "def delete(word):\n",
    "  return [l + r[1:] for l,r in split(word) if r]"
   ]
  },
  {
   "cell_type": "code",
   "execution_count": 11,
   "metadata": {
    "colab": {
     "base_uri": "https://localhost:8080/"
    },
    "id": "Xux3cipf2Dzi",
    "outputId": "6973c737-2d7f-4d78-96f2-e2c4443e74c2"
   },
   "outputs": [
    {
     "name": "stdout",
     "output_type": "stream",
     "text": [
      "['ove', 'lve', 'loe', 'lov']\n"
     ]
    }
   ],
   "source": [
    "print(delete('love'))"
   ]
  },
  {
   "cell_type": "code",
   "execution_count": 12,
   "metadata": {
    "id": "gQjWVuZm2Hf6"
   },
   "outputs": [],
   "source": [
    "#swap the characters in the word (see below)\n",
    "def swap(word):\n",
    "  return [l+ r[1] + r[0] +r[2:] for l,r in split(word) if len(r)>1]"
   ]
  },
  {
   "cell_type": "code",
   "execution_count": 13,
   "metadata": {
    "colab": {
     "base_uri": "https://localhost:8080/"
    },
    "id": "ALISeskL23CU",
    "outputId": "0caba6c1-55db-4927-c81f-534af3829906"
   },
   "outputs": [
    {
     "name": "stdout",
     "output_type": "stream",
     "text": [
      "['olve', 'lvoe', 'loev']\n"
     ]
    }
   ],
   "source": [
    "print(swap('love'))"
   ]
  },
  {
   "cell_type": "code",
   "execution_count": 14,
   "metadata": {
    "id": "kxVAsQyY25tN"
   },
   "outputs": [],
   "source": [
    "#replacing word\n",
    "def replace(word):\n",
    "  letters = string.ascii_lowercase\n",
    "  return [l + c + r[1:] for l,r in split(word) if r for c in letters]"
   ]
  },
  {
   "cell_type": "code",
   "execution_count": 20,
   "metadata": {
    "colab": {
     "base_uri": "https://localhost:8080/"
    },
    "id": "gtAbmjh63vUO",
    "outputId": "11a62755-890f-4534-8cb1-7df472bf78db"
   },
   "outputs": [
    {
     "name": "stdout",
     "output_type": "stream",
     "text": [
      "['aove', 'bove', 'cove', 'dove', 'eove', 'fove', 'gove', 'hove', 'iove', 'jove', 'kove', 'love', 'move', 'nove', 'oove', 'pove', 'qove', 'rove', 'sove', 'tove', 'uove', 'vove', 'wove', 'xove', 'yove', 'zove', 'lave', 'lbve', 'lcve', 'ldve', 'leve', 'lfve', 'lgve', 'lhve', 'live', 'ljve', 'lkve', 'llve', 'lmve', 'lnve', 'love', 'lpve', 'lqve', 'lrve', 'lsve', 'ltve', 'luve', 'lvve', 'lwve', 'lxve', 'lyve', 'lzve', 'loae', 'lobe', 'loce', 'lode', 'loee', 'lofe', 'loge', 'lohe', 'loie', 'loje', 'loke', 'lole', 'lome', 'lone', 'looe', 'lope', 'loqe', 'lore', 'lose', 'lote', 'loue', 'love', 'lowe', 'loxe', 'loye', 'loze', 'lova', 'lovb', 'lovc', 'lovd', 'love', 'lovf', 'lovg', 'lovh', 'lovi', 'lovj', 'lovk', 'lovl', 'lovm', 'lovn', 'lovo', 'lovp', 'lovq', 'lovr', 'lovs', 'lovt', 'lovu', 'lovv', 'lovw', 'lovx', 'lovy', 'lovz']\n"
     ]
    }
   ],
   "source": [
    "print(replace('love'))"
   ]
  },
  {
   "cell_type": "code",
   "execution_count": 21,
   "metadata": {
    "id": "t_L2ksSt3ywT"
   },
   "outputs": [],
   "source": [
    "#insert \n",
    "def insert(word):\n",
    "  letters = string.ascii_lowercase\n",
    "  return [l + r + c for l,r in split(word) for c in letters]"
   ]
  },
  {
   "cell_type": "code",
   "execution_count": 22,
   "metadata": {
    "colab": {
     "base_uri": "https://localhost:8080/"
    },
    "id": "UhN_rehi93XE",
    "outputId": "87e41575-2dd1-454f-b5cd-497ebebe2287"
   },
   "outputs": [
    {
     "name": "stdout",
     "output_type": "stream",
     "text": [
      "['lovea', 'loveb', 'lovec', 'loved', 'lovee', 'lovef', 'loveg', 'loveh', 'lovei', 'lovej', 'lovek', 'lovel', 'lovem', 'loven', 'loveo', 'lovep', 'loveq', 'lover', 'loves', 'lovet', 'loveu', 'lovev', 'lovew', 'lovex', 'lovey', 'lovez', 'lovea', 'loveb', 'lovec', 'loved', 'lovee', 'lovef', 'loveg', 'loveh', 'lovei', 'lovej', 'lovek', 'lovel', 'lovem', 'loven', 'loveo', 'lovep', 'loveq', 'lover', 'loves', 'lovet', 'loveu', 'lovev', 'lovew', 'lovex', 'lovey', 'lovez', 'lovea', 'loveb', 'lovec', 'loved', 'lovee', 'lovef', 'loveg', 'loveh', 'lovei', 'lovej', 'lovek', 'lovel', 'lovem', 'loven', 'loveo', 'lovep', 'loveq', 'lover', 'loves', 'lovet', 'loveu', 'lovev', 'lovew', 'lovex', 'lovey', 'lovez', 'lovea', 'loveb', 'lovec', 'loved', 'lovee', 'lovef', 'loveg', 'loveh', 'lovei', 'lovej', 'lovek', 'lovel', 'lovem', 'loven', 'loveo', 'lovep', 'loveq', 'lover', 'loves', 'lovet', 'loveu', 'lovev', 'lovew', 'lovex', 'lovey', 'lovez', 'lovea', 'loveb', 'lovec', 'loved', 'lovee', 'lovef', 'loveg', 'loveh', 'lovei', 'lovej', 'lovek', 'lovel', 'lovem', 'loven', 'loveo', 'lovep', 'loveq', 'lover', 'loves', 'lovet', 'loveu', 'lovev', 'lovew', 'lovex', 'lovey', 'lovez']\n"
     ]
    }
   ],
   "source": [
    "print(insert('love'))"
   ]
  },
  {
   "cell_type": "code",
   "execution_count": 27,
   "metadata": {
    "id": "n4hkQ3kO9_IN"
   },
   "outputs": [],
   "source": [
    "#distance of edit 1\n",
    "def edit1(word):\n",
    "  return set(delete(word) + swap(word) + replace(word) + insert(word))"
   ]
  },
  {
   "cell_type": "code",
   "execution_count": 28,
   "metadata": {
    "colab": {
     "base_uri": "https://localhost:8080/"
    },
    "id": "C9gs8gIe_p2r",
    "outputId": "72be6ed4-a847-4944-9dfa-4b5a661375d2"
   },
   "outputs": [
    {
     "name": "stdout",
     "output_type": "stream",
     "text": [
      "{'looe', 'lovi', 'pove', 'lode', 'lovey', 'lovo', 'loee', 'lkve', 'lovh', 'lovep', 'lovef', 'yove', 'lovl', 'loie', 'qove', 'loxe', 'lova', 'loveb', 'loue', 'lovp', 'lovec', 'lve', 'vove', 'loved', 'kove', 'loze', 'lovew', 'loe', 'lgve', 'xove', 'lovm', 'lovee', 'luve', 'lovj', 'tove', 'lvve', 'lover', 'lome', 'lovx', 'bove', 'hove', 'lpve', 'lovel', 'lone', 'lovet', 'sove', 'lovei', 'aove', 'loveq', 'jove', 'zove', 'loev', 'loce', 'live', 'lowe', 'lovt', 'lovej', 'move', 'lovex', 'lovk', 'fove', 'lovv', 'olve', 'leve', 'ltve', 'lole', 'ove', 'oove', 'lovem', 'iove', 'lovg', 'lnve', 'nove', 'loge', 'lobe', 'loye', 'lovw', 'lrve', 'lzve', 'lovu', 'lxve', 'cove', 'loveo', 'loveu', 'lovr', 'dove', 'rove', 'lwve', 'lovea', 'lohe', 'lvoe', 'llve', 'loje', 'lope', 'lore', 'lovc', 'ldve', 'loveg', 'lovb', 'lov', 'loves', 'love', 'lhve', 'ljve', 'lovy', 'lose', 'loveh', 'lovs', 'gove', 'lyve', 'uove', 'loqe', 'lovev', 'lbve', 'lofe', 'loae', 'lovq', 'lovek', 'lovz', 'lmve', 'wove', 'lovez', 'lsve', 'lote', 'lfve', 'lovf', 'loven', 'lovd', 'lcve', 'lqve', 'lovn', 'lave', 'loke', 'eove'}\n"
     ]
    }
   ],
   "source": [
    "print(edit1('love'))"
   ]
  },
  {
   "cell_type": "code",
   "execution_count": 29,
   "metadata": {
    "id": "FwYqzgl8_v_P"
   },
   "outputs": [],
   "source": [
    "#distance of edit 2\n",
    "def edit2(word):\n",
    "  return set(e2 for e1 in edit1(word) for e2 in edit1(e1))"
   ]
  },
  {
   "cell_type": "code",
   "execution_count": 30,
   "metadata": {
    "colab": {
     "base_uri": "https://localhost:8080/"
    },
    "id": "d79WMVwzAE5z",
    "outputId": "7fd2523c-645d-48f7-a3a8-9b5cb08bffff"
   },
   "outputs": [
    {
     "name": "stdout",
     "output_type": "stream",
     "text": [
      "{'zose', 'lovens', 'livec', 'lpvv', 'wsve', 'lexe', 'iote', 'lovejo', 'wovec', 'lnvel', 'lpge', 'soveo', 'loseo', 'lvvel', 'yovez', 'ldvq', 'lovejf', 'lsje', 'pgve', 'lowx', 'lwvg', 'ldvs', 'lvop', 'lorec', 'lozew', 'loevq', 'lcveo', 'yoveu', 'xgve', 'ltveb', 'lgge', 'uovu', 'looer', 'ltvo', 'lnvw', 'hohe', 'woke', 'loru', 'lovehw', 'lovye', 'iofe', 'hovem', 'ptve', 'gcve', 'lovgb', 'lfvy', 'lsxe', 'wova', 'llvec', 'movk', 'lovexx', 'qovet', 'lold', 'lovan', 'oce', 'koe', 'lovuu', 'lovhc', 'louer', 'loyem', 'lopt', 'aose', 'vtve', 'uovv', 'kovr', 'ldvl', 'lhvem', 'lovsd', 'lxve', 'lovebl', 'lotj', 'loveif', 'loverw', 'loen', 'ldme', 'ldje', 'lohq', 'dsve', 'lxte', 'lxvei', 'lpves', 'lcveh', 'lape', 'lotf', 'loevb', 'loveqa', 'lovqv', 'xave', 'lvvee', 'kcve', 'lkvet', 'lahe', 'coveg', 'ltvs', 'lovejk', 'lwvn', 'joue', 'lvvy', 'losc', 'lcie', 'wooe', 'covea', 'lpvey', 'jovv', 'loko', 'ooue', 'louo', 'luven', 'lavw', 'qole', 'lgfe', 'bova', 'movt', 'jov', 'lovera', 'dovo', 'pfve', 'lozy', 'qkve', 'lfvk', 'lvvk', 'oose', 'llvp', 'lkae', 'fovet', 'lame', 'oole', 'loys', 'looes', 'wvoe', 'lsvb', 'lokem', 'lbveh', 'luvet', 'hovel', 'lpvf', 'boveb', 'lovexo', 'lohf', 'lovepd', 'lhvo', 'hoze', 'lvveu', 'loqeh', 'loueb', 'jjve', 'dyve', 'fvve', 'sovd', 'xope', 'lory', 'lpvec', 'lyvew', 'loveap', 'olvu', 'lnvef', 'locei', 'ljvek', 'lovgq', 'ooxe', 'lovzx', 'cive', 'lhvey', 'dote', 'livb', 'jovw', 'tovs', 'lovgi', 'loveam', 'loar', 'loveuy', 'poae', 'livei', 'loaw', 'lmoe', 'govl', 'lovesg', 'lodh', 'qoved', 'hoae', 'coge', 'lovewr', 'llvem', 'loveum', 'lbvej', 'wuve', 'doved', 'lyv', 'tave', 'lovnm', 'olke', 'loyj', 'lije', 'loveky', 'lmvea', 'lzvp', 'xoce', 'logek', 'vovr', 'covg', 'liv', 'rgve', 'loqeb', 'lqved', 'uqve', 'lvvea', 'ioves', 'ldse', 'lovry', 'lmfe', 'eore', 'voje', 'voveu', 'lovekf', 'lovvf', 'lkke', 'loeo', 'iyve', 'loeve', 'lolev', 'rovu', 'mhve', 'loan', 'loyee', 'aovj', 'llme', 'qeve', 'lsveh', 'bope', 'xyve', 'lwbe', 'joveh', 'wqve', 'lwvh', 'lovvc', 'zoveb', 'lopel', 'ldvp', 'gobe', 'pmve', 'vovew', 'lovac', 'luhe', 'loveve', 'lovekw', 'lkvw', 'xoveb', 'lovtd', 'qovep', 'lvved', 'lonx', 'lgvw', 'covec', 'uovz', 'uxve', 'lvn', 'vovo', 'foee', 'lavex', 'lovni', 'lxvh', 'roven', 'loxeu', 'loveis', 'lxqe', 'lozh', 'lovcc', 'ldveg', 'loxb', 'lovemj', 'vovn', 'loqn', 'lovib', 'louen', 'woue', 'lovcn', 'loyeu', 'uode', 'hdve', 'iovet', 'lbvr', 'lmvx', 'lbvk', 'ioye', 'soze', 'lxven', 'ygve', 'qovs', 'hovek', 'lmce', 'loied', 'lsvp', 'loby', 'sjve', 'txve', 'koye', 'lfle', 'fovd', 'lovefu', 'lpvep', 'hhve', 'covs', 'lokec', 'nooe', 'ioveg', 'lojeu', 'soven', 'lopeu', 'lowo', 'uone', 'eovm', 'lovfm', 'livef', 'nzve', 'rovej', 'lveq', 'lovqa', 'cove', 'movp', 'lorel', 'kovev', 'lcvm', 'lywe', 'lgte', 'lovxd', 'koae', 'loqp', 'nova', 'jive', 'lovin', 'sovi', 'lovwl', 'zofe', 'load', 'lojek', 'kovei', 'lovqy', 'lwves', 'liee', 'lovebn', 'lhvet', 'loyea', 'wovea', 'koveu', 'agve', 'lovecp', 'qovw', 'kxve', 'xovez', 'lmle', 'iovew', 'lzvev', 'lozl', 'ioze', 'xover', 'koveb', 'loheg', 'llvey', 'lqve', 'lobed', 'kovew', 'jole', 'iope', 'rovex', 'uofe', 'lovehs', 'kovel', 'lovot', 'lavn', 'oovz', 'lvh', 'jnve', 'llveo', 'soev', 'ubve', 'lhvez', 'hovev', 'lorp', 'avve', 'fovx', 'loyf', 'yeve', 'lokc', 'lavq', 'lovewv', 'aofe', 'lhvm', 'aovr', 'lovvq', 'lpve', 'loveui', 'lopet', 'lwvq', 'iovel', 'loveoi', 'lokz', 'qvoe', 'lofy', 'iave', 'lmvet', 'xfve', 'lovsm', 'lovxy', 'xovm', 'lovhd', 'loeev', 'kuve', 'lovwj', 'loevl', 'goie', 'ldxe', 'tcve', 'lobn', 'losa', 'lqvey', 'ioveu', 'llie', 'levb', 'rxve', 'noye', 'lovety', 'lomp', 'lovw', 'lven', 'lpvy', 'lrve', 'lozec', 'lpre', 'losea', 'moveh', 'levk', 'iovej', 'lovtc', 'luveu', 'loeeu', 'qovec', 'love', 'lgvl', 'lpvet', 'sovl', 'lyae', 'qjve', 'lovejv', 'lojeo', 'hrve', 'ovey', 'ykve', 'lonv', 'loveel', 'core', 'iovey', 'luvey', 'yovek', 'lfvl', 'rve', 'lyver', 'lafe', 'loxn', 'lqvez', 'povk', 'lovepp', 'aovc', 'lovjj', 'jova', 'ldvv', 'loveht', 'lovekl', 'rovo', 'xnve', 'lzves', 'dode', 'lovert', 'lqte', 'uave', 'juve', 'lorea', 'zovea', 'lpvem', 'povc', 'kole', 'lowd', 'lohi', 'lfvu', 'lnbe', 'govq', 'loet', 'lovpq', 'oves', 'rore', 'lmvek', 'lovlq', 'lovom', 'lotei', 'lovwu', 'luvev', 'foie', 'loht', 'uoe', 'lovkw', 'lofr', 'lqv', 'loyez', 'luze', 'vovej', 'lovpj', 'nnve', 'levy', 'qover', 'loch', 'mowe', 'lovcr', 'lofev', 'loveyv', 'sovc', 'kode', 'ljxe', 'lwvx', 'lnvu', 'llfe', 'ljfe', 'xovw', 'jovec', 'lovid', 'loney', 'lovexa', 'lgde', 'olvel', 'lovese', 'lovbm', 'trve', 'lzvo', 'loxeq', 'lovcg', 'lvoem', 'uovq', 'eovt', 'lfvh', 'xovem', 'ghve', 'novej', 'fovf', 'losez', 'boce', 'lefe', 'qrve', 'qvve', 'llvet', 'lobeb', 'pave', 'lrvet', 'movj', 'kovec', 'ltre', 'lvoz', 'loveod', 'yovei', 'lmye', 'povei', 'loieu', 'lovern', 'qovey', 'ovea', 'nohe', 'lovetf', 'hope', 'eoke', 'lxveo', 'oope', 'lodea', 'lqvg', 'lvvq', 'hovew', 'lolej', 'bole', 'lnye', 'lvor', 'lovbb', 'lqvh', 'mfve', 'doveu', 'loqr', 'kovp', 'lwje', 'lort', 'qwve', 'lnveq', 'llvf', 'lovpd', 'lobv', 'lmpe', 'lpvu', 'bovb', 'loled', 'rave', 'lgvx', 'lase', 'lovevd', 'levm', 'lnqe', 'lowj', 'lott', 'lobej', 'oovb', 'lqoe', 'loeed', 'lzvew', 'svve', 'levej', 'covef', 'xoje', 'loqeq', 'loea', 'lovvh', 'lovest', 'bovk', 'hoven', 'voie', 'loct', 'rovw', 'ltme', 'ooe', 'node', 'lsvf', 'qovb', 'xoke', 'lovyi', 'lovexe', 'live', 'bvve', 'lobj', 'sode', 'lovepk', 'lovein', 'qqve', 'oovk', 'looez', 'zoveh', 'locel', 'doce', 'lovejc', 'novv', 'lyvet', 'lovlv', 'loqm', 'lzva', 'looeb', 'zovw', 'levu', 'lrvx', 'lgvea', 'uole', 'lbvee', 'lhee', 'povz', 'qbve', 'lovxm', 'lvea', 'loxv', 'loao', 'lvec', 'zovl', 'jovex', 'lovr', 'loql', 'lnle', 'lovehy', 'lovebt', 'bovei', 'lovesx', 'lorj', 'lovevf', 'loveqv', 'lotm', 'lhved', 'oie', 'luwe', 'lene', 'lovelc', 'kowe', 'lyvy', 'lovelr', 'lond', 'lwveg', 'eovd', 'luvh', 'lzhe', 'role', 'kore', 'lqvem', 'towe', 'povec', 'vovep', 'aoe', 'tooe', 'ldvei', 'lovezz', 'xobe', 'pive', 'fovh', 'lovwp', 'psve', 'lvqe', 'wovej', 'lsvet', 'lkle', 'levev', 'joveu', 'lrwe', 'loevf', 'loveke', 'loveaq', 'olvef', 'loaek', 'lonk', 'lpva', 'lovemr', 'xoved', 'loxev', 'lohet', 'mwve', 'poe', 'lovpp', 'eoue', 'lovfk', 'lovgm', 'uive', 'lovexz', 'hovs', 'uovx', 'sxve', 'loveft', 'qovev', 'lvoej', 'lbpe', 'ldae', 'qov', 'lovexu', 'lowec', 'zovs', 'xose', 'lhvex', 'lozet', 'bove', 'lovebp', 'htve', 'lovqc', 'lype', 'lovero', 'lyvd', 'lavem', 'rovev', 'jove', 'covr', 'ive', 'loveme', 'lsvea', 'covi', 'lovxz', 'lowey', 'ijve', 'oote', 'livh', 'lovegc', 'lozk', 'leve', 'loveyx', 'lmvef', 'lzveq', 'lile', 'looem', 'lkvk', 'yuve', 'lnvs', 'aoveo', 'olvl', 'kovg', 'ltvd', 'lovzr', 'lcvek', 'loxen', 'lvog', 'lozea', 'lfvem', 'lmvc', 'loaex', 'ooje', 'novb', 'lyvf', 'loeb', 'pofe', 'lnue', 'lovoy', 'lxbe', 'lomm', 'eoves', 'doven', 'levek', 'fjve', 'llvee', 'pone', 'lovebr', 'hovq', 'zsve', 'lbte', 'lovuq', 'lzvee', 'qote', 'oova', 'lovewd', 'lpvex', 'lnde', 'iova', 'lovemg', 'loveyd', 'lolo', 'aovev', 'boveu', 'lovzc', 'dovec', 'lcte', 'yoveq', 'lfvex', 'lcpe', 'lovezx', 'loevk', 'ltveh', 'bover', 'qope', 'lkue', 'tovev', 'edve', 'lwvd', 'ovf', 'lovewx', 'lofa', 'lxvo', 'hoqe', 'loverr', 'qoven', 'loep', 'lorei', 'lofi', 'joee', 'lfe', 'jovf', 'livn', 'lozz', 'olvec', 'zoev', 'lovefg', 'lnveu', 'lzvd', 'ljke', 'lvey', 'lobex', 'ioxe', 'rovi', 'loverd', 'bovl', 'lqae', 'lqse', 'leveq', 'loveaf', 'peve', 'tohe', 'loma', 'laue', 'movev', 'loow', 'lolek', 'lnvi', 'zwve', 'oovek', 'lorz', 'lovkz', 'eovw', 'povey', 'lxae', 'ldce', 'lwvej', 'lovdj', 'lovcq', 'lokg', 'loveii', 'lowen', 'coee', 'lotd', 'lfvi', 'joke', 'kovn', 'lovewz', 'toxe', 'lce', 'eave', 'mkve', 'lyved', 'xovf', 'tovh', 'lovhz', 'fovt', 'uote', 'xovu', 'lohee', 'loxa', 'loxex', 'pova', 'goze', 'loveox', 'lgvex', 'vovd', 'lbveu', 'lofd', 'loden', 'dxve', 'logey', 'xovex', 'levc', 'lcvu', 'iive', 'dovf', 'lvoeu', 'boae', 'lovegn', 'powe', 'lojee', 'lobg', 'lhae', 'lgvg', 'kone', 'poke', 'lovwh', 'lhbe', 'aovm', 'lovki', 'bve', 'nov', 'lozn', 'rovj', 'lxvem', 'lsved', 'lolel', 'lqver', 'lovyy', 'lobel', 'nwve', 'losp', 'lovue', 'doves', 'hcve', 'lzwe', 'lvoee', 'loevu', 'gova', 'lolet', 'ywve', 'lure', 'pbve', 'moae', 'lodei', 'lotep', 'lrvc', 'lovbs', 'looev', 'ldvew', 'lbue', 'lovxa', 'lovhr', 'loyv', 'sovev', 'loveon', 'lrved', 'lcvex', 'lnvv', 'uovep', 'yovq', 'yore', 'loir', 'lovim', 'xoe', 'lovedk', 'poveq', 'lrvi', 'lmie', 'lvhe', 'lozr', 'uovez', 'lovha', 'aover', 'lovecd', 'lvob', 'lovuh', 'lree', 'lovefh', 'lrvee', 'lrpe', 'llvek', 'tuve', 'lovehn', 'lide', 'lise', 'lvex', 'erve', 'lovefa', 'hovep', 'lomx', 'vohe', 'aovez', 'ltvf', 'boveh', 'lqvb', 'lzvej', 'tkve', 'lovdu', 'mvoe', 'ltvt', 'lovij', 'lolc', 'lojef', 'joves', 'wovet', 'aovx', 'uovi', 'lqxe', 'zovu', 'lbxe', 'loley', 'lovja', 'loaeh', 'loveex', 'novi', 'novev', 'lofep', 'losx', 'lovesj', 'lomer', 'voveq', 'lxvp', 'oode', 'jovg', 'stve', 'xovev', 'nrve', 'lpveq', 'lovym', 'inve', 'loveco', 'lovuc', 'lrvr', 'woee', 'lovf', 'ldved', 'lavep', 'lofg', 'povy', 'boee', 'oovd', 'fovs', 'yode', 'vqve', 'yov', 'lkvey', 'loceq', 'oovew', 'lovecx', 'lhvl', 'ldvef', 'loverj', 'lojy', 'lovuo', 'uovei', 'loved', 'ovek', 'lopef', 'lovyo', 'ljvep', 'movi', 'lrte', 'luvr', 'loac', 'loyex', 'mmve', 'lzvek', 'gwve', 'lfre', 'oovg', 'olv', 'lhvk', 'loueo', 'noveu', 'sve', 'zovq', 'poven', 'lohex', 'iovea', 'lovepm', 'lyvq', 'laie', 'uovem', 'loheu', 'lohv', 'lovzb', 'lfvc', 'qsve', 'xlve', 'loper', 'olvb', 'lpce', 'olae', 'movl', 'tovj', 'lovgz', 'lonp', 'fovel', 'lqveu', 'lrv', 'lovjw', 'ltvh', 'llves', 'lmved', 'uoce', 'lovfh', 'olveq', 'loxes', 'lopep', 'jovr', 'doveb', 'foveg', 'lute', 'ksve', 'lxvf', 'loged', 'xov', 'lpme', 'tdve', 'dole', 'lovoq', 'lvoi', 'msve', 'soee', 'logd', 'lpver', 'lkvd', 'ldee', 'lovuw', 'povo', 'sbve', 'jsve', 'yovx', 'lcvr', 'lhxe', 'louz', 'lale', 'loverc', 'lomel', 'ctve', 'moev', 'loav', 'loeu', 'kote', 'loveas', 'lomeb', 'dovn', 'ljvej', 'lavd', 'lwven', 'logep', 'llvn', 'eovev', 'mooe', 'loveet', 'rovk', 'lovedl', 'oovn', 'lonem', 'lmvev', 'lokeq', 'lovtq', 'lsvi', 'xoev', 'lokw', 'jzve', 'liven', 'lvvec', 'luvl', 'lopeg', 'lovvo', 'lovfr', 'itve', 'lovzu', 'lxveg', 'govj', 'lobek', 'zhve', 'qoveg', 'uoqe', 'loah', 'lfvea', 'soce', 'lgvu', 'lojr', 'lfvef', 'llveq', 'lox', 'iowe', 'lqvee', 'lovyu', 'olbe', 'hovp', 'ooveg', 'levi', 'lomr', 'lvoh', 'zlve', 'fnve', 'lvvev', 'lovky', 'lovexs', 'bsve', 'dzve', 'lovqm', 'dovc', 'povj', 'loqeu', 'lou', 'logec', 'seve', 'lovjb', 'ltvec', 'bowe', 'oovef', 'aobe', 'lovpl', 'lme', 'lowez', 'woze', 'dove', 'rove', 'lwve', 'lkvq', 'loceu', 'ezve', 'lffe', 'tovp', 'lodep', 'lnvek', 'loov', 'lovvk', 'coven', 'loid', 'loiq', 'lfye', 'livu', 'loqw', 'lnvm', 'lvew', 'lrvw', 'lovewe', 'lwveu', 'veve', 'gsve', 'lovs', 'olev', 'lsver', 'lozeq', 'rowe', 'woce', 'dcve', 'lwqe', 'llvi', 'lgxe', 'xovx', 'movem', 'lpvb', 'lovehg', 'lovae', 'ovej', 'rovef', 'lovvy', 'lvvem', 'lvvr', 'lyvs', 'yyve', 'loven', 'jovey', 'hovn', 'lbge', 'ljvu', 'coveh', 'yoves', 'ehve', 'vovee', 'lofex', 'lodz', 'loju', 'loto', 'ltvef', 'lgva', 'livf', 'lfvf', 'lojex', 'lober', 'lobd', 'zoge', 'hovf', 'covq', 'lpie', 'lavee', 'loveek', 'uve', 'lovwy', 'lovih', 'xxve', 'oovex', 'lnvet', 'lkvp', 'zovee', 'vovey', 'lyvo', 'lovmz', 'lovwx', 'uoves', 'xtve', 'kvoe', 'koie', 'whve', 'kovj', 'jovy', 'lvoen', 'ovt', 'lolex', 'xoveg', 'olvev', 'gope', 'novu', 'lcvs', 'lcves', 'oive', 'locee', 'loveao', 'lwie', 'kova', 'loeek', 'woae', 'lovjy', 'look', 'lvoea', 'uome', 'zovv', 'qooe', 'hovb', 'aoveh', 'hovo', 'ore', 'lxje', 'lnoe', 'tote', 'goye', 'khve', 'novh', 'livo', 'lovld', 'lhie', 'lofei', 'locej', 'lovdw', 'qovel', 'snve', 'lnvev', 'lovhp', 'lohez', 'lovehm', 'yfve', 'luev', 'btve', 'lse', 'lgvek', 'lotu', 'aovei', 'jovb', 'uovh', 'tovb', 'voveo', 'lsven', 'gfve', 'levs', 'loveqr', 'lovdk', 'oovev', 'loner', 'livej', 'lcvh', 'lovoc', 'lovlt', 'lovech', 'lonez', 'uoze', 'govb', 'lwke', 'lojev', 'ldqe', 'lcre', 'noae', 'lovtv', 'lovesu', 'lolk', 'toves', 'lrme', 'lovbq', 'logq', 'loaez', 'ltvej', 'lowh', 'lhue', 'lnveb', 'lovpr', 'dovw', 'lrves', 'lovecj', 'joxe', 'hxve', 'qovi', 'lwvl', 'loix', 'lovqq', 'zfve', 'lovh', 'lovcl', 'lpvz', 'lcva', 'lofez', 'nover', 'wovel', 'sope', 'toveh', 'lovlb', 'roved', 'lovli', 'lopk', 'louep', 'mjve', 'lovefj', 'lolei', 'livk', 'evve', 'lovqo', 'lqveo', 'noev', 'lsme', 'ltvg', 'lovji', 'fovn', 'kov', 'covw', 'loveny', 'lxue', 'wovex', 'lrqe', 'lgev', 'lovke', 'sovef', 'lovaf', 'ldveb', 'levet', 'qoev', 'koved', 'llge', 'eive', 'lmwe', 'loyr', 'luvek', 'jovea', 'hoveg', 'oue', 'lgvo', 'noke', 'lfne', 'xore', 'loveni', 'fovec', 'nove', 'kovx', 'dtve', 'llvs', 'lovyb', 'kovea', 'lovrb', 'lolw', 'ioae', 'loveuk', 'plve', 'pole', 'jbve', 'lovecy', 'lfvj', 'movs', 'lorem', 'lovir', 'lhvel', 'lye', 'lohc', 'lmvs', 'xovt', 'oveg', 'loxg', 'lovecn', 'lofm', 'livem', 'lxse', 'povem', 'lovent', 'lwvep', 'ltvee', 'jovei', 'ckve', 'lomev', 'loset', 'lovev', 'lovdr', 'houe', 'lqveg', 'aode', 'qoee', 'mope', 'aovz', 'lovexf', 'lovz', 'lovjr', 'lqvc', 'bovj', 'lovxt', 'lovth', 'loqi', 'lomee', 'ibve', 'yovy', 'wofe', 'moce', 'yoveo', 'ncve', 'levd', 'loeew', 'yovef', 'losey', 'lnvee', 'olvem', 'lovexb', 'levep', 'lrvu', 'lohn', 'locd', 'rovp', 'tpve', 'lkvv', 'lsva', 'wovz', 'lovdb', 'zrve', 'ovet', 'akve', 'lkqe', 'lavev', 'lyvp', 'wovj', 'loveop', 'jovef', 'loul', 'aoved', 'lovelj', 'lgqe', 'lorev', 'lovegg', 'hive', 'ovu', 'leue', 'ljce', 'lopz', 'govg', 'elve', 'lovevk', 'luv', 'laee', 'lrvk', 'oge', 'loxj', 'lhvr', 'loqb', 'lkvei', 'loev', 'lovxh', 'hvoe', 'covk', 'loiec', 'ldva', 'lgvc', 'save', 'logem', 'huve', 'olde', 'klve', 'lovbk', 'lojeq', 'lovlu', 'flve', 'lsvv', 'yover', 'ltqe', 'lovewc', 'ljme', 'yovg', 'reve', 'zoven', 'loevo', 'hobe', 'ovd', 'exve', 'wyve', 'lpvei', 'lovlm', 'logel', 'lhvy', 'oohe', 'lotef', 'lolz', 'looc', 'covb', 'lrvel', 'lojc', 'lkvee', 'ltved', 'lovetd', 'lovkc', 'sovec', 'loevz', 'lovpu', 'loki', 'moveg', 'ltvu', 'losem', 'lovzj', 'pore', 'blve', 'chve', 'fovm', 'lovnh', 'lokei', 'ljvem', 'govm', 'lcvel', 'lovdc', 'ltvp', 'lcven', 'moie', 'llvq', 'llvef', 'lowu', 'lovce', 'loti', 'lokm', 'lives', 'loqea', 'lonec', 'lorc', 'lovemv', 'ioie', 'logj', 'lotk', 'soe', 'yoje', 'qyve', 'xovei', 'lfveh', 'loveuq', 'povew', 'evoe', 'lovefq', 'lovenj', 'novm', 'lrde', 'lqvs', 'lovedp', 'lfvd', 'hole', 'lvef', 'lwvey', 'novew', 'poge', 'lomej', 'oovel', 'lmvw', 'lvvp', 'lonew', 'lqee', 'ljev', 'lovewo', 'boe', 'luvel', 'lovov', 'lpvi', 'loyew', 'iov', 'ljqe', 'lolew', 'aovec', 'loml', 'zole', 'lowe', 'olvn', 'voe', 'lkver', 'lozv', 'lzvl', 'syve', 'lxv', 'ove', 'loak', 'loveee', 'logk', 'lovedq', 'lovewp', 'lovmg', 'xoze', 'pvoe', 'lqhe', 'govee', 'lovecu', 'lvves', 'lohe', 'loxq', 'jovej', 'woveh', 'lovehe', 'voze', 'lovwc', 'esve', 'lwe', 'wlve', 'lavel', 'lovsu', 'boqe', 'oye', 'lotek', 'bovey', 'lnvb', 'looep', 'noze', 'losj', 'xrve', 'lzvc', 'lopi', 'luvp', 'ioqe', 'lhve', 'quve', 'livj', 'olvp', 'ltveo', 'govef', 'zode', 'ltvez', 'lfce', 'lvde', 'lobs', 'loox', 'lovtm', 'lovlf', 'lovox', 'lovwe', 'lwme', 'lovexm', 'locex', 'loke', 'bovv', 'looe', 'pxve', 'zovo', 'lovrx', 'lbvev', 'loveqs', 'olme', 'lkvu', 'lobey', 'euve', 'loh', 'olvep', 'iovz', 'lovfi', 'mov', 'lqvj', 'gkve', 'lovezy', 'long', 'oe', 'lovor', 'vovl', 'lovepj', 'lxvq', 'joved', 'ltwe', 'asve', 'lomex', 'lokey', 'lovmj', 'gote', 'uoje', 'loveos', 'lkvel', 'moge', 'lhvz', 'uoee', 'ov', 'lovod', 'loieg', 'guve', 'uoev', 'iovn', 'hoje', 'loq', 'lovedc', 'yovv', 'uovy', 'tovn', 'shve', 'aovq', 'lowej', 'lont', 'fcve', 'lvvv', 'loevr', 'lofem', 'loveuv', 'loec', 'loxez', 'nlve', 'ltvem', 'luva', 'lozb', 'lodv', 'lkvr', 'xode', 'ldvu', 'lovsf', 'loiev', 'lxe', 'loaew', 'lnved', 'uovej', 'lotel', 'lovpb', 'vovt', 'govei', 'lovegi', 'loseq', 'bzve', 'ltge', 'oave', 'mtve', 'lohp', 'ltvz', 'oovv', 'pover', 'loevg', 'nobe', 'moveb', 'lovjq', 'lovxu', 'logee', 'ldvb', 'lovun', 'aovy', 'lfveg', 'lkved', 'xovb', 'xovee', 'loveux', 'govs', 'hovg', 'olvj', 'lcze', 'nofe', 'jovl', 'lodt', 'lomt', 'lovelb', 'lwvo', 'lwvea', 'loces', 'keve', 'lovbt', 'sote', 'luvex', 'foveh', 'aeve', 'gbve', 'lne', 'lgveu', 'kovm', 'locf', 'lhvek', 'myve', 'xvoe', 'losg', 'lkveu', 'hovy', 'fovj', 'louw', 'ljvl', 'lovecc', 'ldveu', 'lovemf', 'qovem', 'llvei', 'loveta', 'iobe', 'lovmx', 'lovdz', 'loxz', 'lozo', 'vyve', 'cbve', 'uovef', 'lrvev', 'lyvr', 'gohe', 'llqe', 'xovj', 'lovebv', 'lfvec', 'loyeg', 'coqe', 'lcle', 'loveun', 'lfie', 'lovqr', 'fxve', 'lovvz', 'losi', 'dgve', 'spve', 'lord', 'looeu', 'cdve', 'qovz', 'eve', 'olvet', 'lgje', 'lovedf', 'lopr', 'lgue', 'ltvq', 'ljvec', 'mone', 'lofb', 'lovub', 'loveur', 'fsve', 'uovek', 'ljhe', 'leves', 'lcvz', 'zovef', 'lopew', 'dovy', 'tovg', 'lkvb', 'ioe', 'lovegd', 'fohe', 'hoveu', 'lovebw', 'njve', 'loveaa', 'vova', 'lzve', 'jovk', 'loyd', 'lbved', 'lovwq', 'loku', 'rive', 'lgved', 'jmve', 'lovra', 'ltver', 'lyveu', 'gzve', 'loveyt', 'lozq', 'lotw', 'loos', 'lovemo', 'lyva', 'lovegr', 'weve', 'ljvew', 'lzvex', 'ljvb', 'moye', 'ltvb', 'lvoef', 'ytve', 'nive', 'lavz', 'loveli', 'lovhi', 'lovhk', 'lovje', 'lrev', 'lmvej', 'lovtx', 'lovys', 'ooce', 'lovxe', 'lavec', 'lgvd', 'pobe', 'qnve', 'ltje', 'lbvw', 'loseb', 'lodev', 'woveu', 'zovy', 'loveym', 'lvee', 'lovie', 'loher', 'ovh', 'foge', 'lsvee', 'lpae', 'lovvj', 'lmvb', 'lova', 'lovejp', 'loveat', 'lona', 'lqvd', 'lire', 'rovem', 'icve', 'lovfa', 'lovtj', 'aovet', 'lhven', 'lzvb', 'lojk', 'fbve', 'lovexh', 'lsves', 'foke', 'hone', 'oovt', 'lovko', 'loxm', 'lowef', 'cnve', 'loyg', 'logea', 'lxxe', 'ovb', 'loveuj', 'lovws', 'lhvc', 'lzvg', 'aovi', 'novj', 'fovew', 'lojeb', 'woveo', 'lovch', 'lomes', 'kovl', 'lvoex', 'puve', 'losb', 'lnvei', 'lwvet', 'locea', 'eovz', 'loxh', 'lovemc', 'qoge', 'lomed', 'loheh', 'hovef', 'ljee', 'lovkp', 'cvve', 'loiee', 'lbvo', 'loveyw', 'loye', 'lvne', 'lovle', 'lqvv', 'pnve', 'gode', 'zovx', 'lge', 'lovmr', 'eovj', 'lvep', 'fovv', 'lnse', 'loheq', 'louc', 'sovq', 'ljvet', 'movee', 'loeef', 'ooveq', 'lolf', 'loverp', 'hooe', 'rovet', 'kovem', 'lovyt', 'ovz', 'lvoez', 'hovz', 'louef', 'lovelw', 'lovfy', 'oovq', 'efve', 'lgveb', 'loues', 'looee', 'lbvy', 'loveyi', 'eope', 'jooe', 'doveg', 'lovewb', 'dovek', 'uovex', 'luvm', 'lokk', 'lote', 'wover', 'ljye', 'lovevh', 'lovaj', 'lovefk', 'lovsh', 'olie', 'lovedu', 'lzde', 'skve', 'lovqn', 'ljvp', 'noveo', 'lows', 'noveh', 'loxet', 'ndve', 'lgvp', 'sovey', 'lovevi', 'loyc', 'vvve', 'lyvi', 'lxev', 'lvveo', 'levv', 'ldvj', 'lqvm', 'rovec', 'sovg', 'koje', 'lomf', 'oke', 'lhvs', 'lqva', 'gov', 'ioveo', 'lovre', 'lovwz', 'movn', 'lohes', 'isve', 'losk', 'llveb', 'roev', 'lowee', 'lv', 'hyve', 'oore', 'livy', 'lpvel', 'lovehp', 'lovelz', 'lsvec', 'lovevm', 'lod', 'koev', 'lovedn', 'loveid', 'losq', 'lokex', 'lrvo', 'llva', 'lkev', 'lokf', 'lovelu', 'povn', 'lopx', 'lovekt', 'loveqx', 'lopeh', 'yovex', 'yoxe', 'leveh', 'llvy', 'loleg', 'bwve', 'ljre', 'ryve', 'lovbo', 'fovo', 'iovq', 'bkve', 'beve', 'lopea', 'loyer', 'tovei', 'xovl', 'lovevj', 'uohe', 'lovku', 'lovya', 'lyvez', 'lvvz', 'lube', 'lxvt', 'ljvh', 'wovx', 'levea', 'loveby', 'loeep', 'hovez', 'loget', 'lzre', 'lovekn', 'lovevz', 'hwve', 'bovu', 'eobe', 'lade', 'fovep', 'jote', 'povs', 'moqe', 'lvvn', 'lovefz', 'loveyf', 'yoveh', 'lkve', 'leveu', 'ljvez', 'loverq', 'hovl', 'lhde', 'lovedb', 'zovej', 'lovesk', 'ljvo', 'lofet', 'lcvef', 'lawe', 'loiew', 'lovzy', 'ljne', 'wovem', 'qovy', 'gdve', 'ioven', 'lpje', 'lofeu', 'rovb', 'eoje', 'lbvm', 'lsbe', 'livex', 'ltvy', 'bbve', 'loveqe', 'odve', 'loon', 'lovis', 'xohe', 'loben', 'lwpe', 'lhvv', 'lnvj', 'ltveq', 'lkvez', 'lovmw', 'vovec', 'lcvep', 'lrle', 'lorg', 'loveca', 'movh', 'lrvh', 'lwvc', 'wovek', 'lohec', 'louel', 'bovg', 'lovtz', 'lodg', 'lxvef', 'qovr', 'ljvef', 'lgoe', 'vole', 'lzvj', 'lrvs', 'lmvei', 'lgveq', 'loiu', 'vovg', 'lolu', 'loveih', 'lgce', 'lqvx', 'bofe', 'lovetz', 'lovfe', 'loro', 'noe', 'lofj', 'locer', 'lovemz', 'lufe', 'lovwn', 'lsle', 'lde', 'lvoy', 'luye', 'lovegv', 'loveir', 'lomy', 'novx', 'lovpv', 'lcge', 'arve', 'roe', 'noxe', 'eoveu', 'lavu', 'loieo', 'lgvem', 'lqvl', 'lovdy', 'loyej', 'lowea', 'lovbg', 'lovedh', 'wovp', 'lwee', 'lok', 'iovw', 'lvvez', 'ltv', 'fovej', 'lovcm', 'ynve', 'lovwm', 'qdve', 'fope', 'vovv', 'dovb', 'like', 'lovere', 'lovby', 'lfveo', 'hovx', 'lovzn', 'looy', 'lovsc', 'ooee', 'boie', 'lovzl', 'novc', 'losee', 'lovejg', 'yova', 'lovejt', 'eovej', 'lmven', 'lovsw', 'lgve', 'lokeb', 'ljver', 'levef', 'xovej', 'aoee', 'ldvk', 'covev', 'luvep', 'xoveh', 'loym', 'lovyf', 'bovz', 'lovia', 'lovcd', 'sole', 'lnwe', 'loted', 'ldge', 'lloe', 'soved', 'yovi', 'scve', 'lodem', 'lomec', 'loweq', 'oovej', 'lwse', 'dovj', 'lovenn', 'lodeq', 'vovev', 'locet', 'loret', 'lgvf', 'lolg', 'loveiq', 'lmde', 'lpvev', 'lqvi', 'lovefn', 'lbvj', 'eovx', 'movw', 'ljveu', 'loph', 'lovetg', 'xsve', 'lyvu', 'lqvef', 'lofv', 'logi', 'lwvk', 'foje', 'lzveg', 'lane', 'lxvep', 'lpvea', 'lqfe', 'loaeg', 'lkv', 'koven', 'lovexn', 'loviv', 'lkie', 'lofea', 'moee', 'qose', 'lorq', 'loag', 'dovv', 'looeo', 'zobe', 'loni', 'lovesq', 'lotn', 'ozve', 'kovee', 'logej', 'lovka', 'lowb', 'lovwb', 'hmve', 'loqel', 'eoveo', 'loveem', 'lvje', 'lovco', 'lovnc', 'kovk', 'xoqe', 'lsvef', 'lcke', 'doe', 'lpke', 'lnev', 'fovey', 'lovlz', 'tovex', 'lovdt', 'ljvs', 'lvvh', 'jovc', 'poce', 'lnvew', 'doye', 'ieve', 'wovq', 'ljvn', 'bfve', 'lovah', 'locj', 'lovezs', 'lbce', 'lsvk', 'gpve', 'lavt', 'lveb', 'fgve', 'gyve', 'lour', 'lovend', 'ekve', 'lsveg', 'loweg', 'lovto', 'qoje', 'lovzh', 'oze', 'lobev', 'loweb', 'lofu', 'zoce', 'lovlg', 'noveq', 'lfhe', 'lkvec', 'qoveh', 'lyne', 'yovey', 'lxke', 'lopl', 'fome', 'olvex', 'tnve', 'ltvep', 'zovey', 'wov', 'lohy', 'rbve', 'poye', 'robe', 'ldvo', 'olvc', 'cobe', 'llte', 'eovem', 'lzver', 'lovyg', 'ldue', 'lhvq', 'lovejz', 'eome', 'lovyj', 'lyvk', 'lovvm', 'iovei', 'lovaz', 'lovob', 'lebe', 'logex', 'lovg', 'kovq', 'louk', 'lnveg', 'laver', 'loho', 'logm', 'lozee', 'louee', 'lwvex', 'yoke', 'roge', 'lovqi', 'loveei', 'lcvc', 'lovezj', 'lojo', 'lozc', 'dovr', 'lcvx', 'dooe', 'lovjd', 'lopeb', 'lovnl', 'ljveb', 'lovmi', 'loxeg', 'ljvg', 'covew', 'llse', 'luvk', 'movea', 'loten', 'aoveg', 'lxoe', 'bode', 'lovetq', 'ruve', 'wove', 'loveqk', 'llwe', 'livw', 'laveb', 'lovgx', 'lrvec', 'lzvr', 'ioce', 'olvr', 'ldver', 'hovm', 'doev', 'iovem', 'ltvet', 'lovezb', 'novel', 'bdve', 'eovb', 'yovz', 'lxce', 'lovexg', 'levn', 'lavh', 'rovn', 'lcveg', 'moveu', 'foce', 'lovepi', 'rote', 'yovea', 'fofe', 'kome', 'lvm', 'zote', 'lowf', 'lpvw', 'lnv', 'lomei', 'ldvr', 'gvoe', 'looea', 'lovemm', 'lvoeo', 'lxvk', 'qoze', 'lfbe', 'npve', 'bqve', 'lite', 'sove', 'qobe', 'ofve', 'lwev', 'xovek', 'lovenu', 'lovzw', 'lcvn', 'oovw', 'govev', 'lrvg', 'kkve', 'lzfe', 'kovep', 'lovln', 'loyp', 'lovezu', 'oovea', 'ljvf', 'lovpf', 'logf', 'iovee', 'lovse', 'ltfe', 'dhve', 'lnvy', 'lavg', 'lovezo', 'lomem', 'lohen', 'aovb', 'lovegq', 'lfze', 'leven', 'luvy', 'zoveu', 'fovee', 'coveu', 'loll', 'bovw', 'lov', 'lyvey', 'loveib', 'lovlw', 'lavo', 'ioee', 'lhvei', 'dovk', 'lovpg', 'movo', 'jovee', 'cote', 'loxw', 'lozx', 'lovezi', 'loveaj', 'lxvet', 'loqe', 'uovb', 'ome', 'loez', 'luvez', 'lfvx', 'lodes', 'lwvy', 'lops', 'lovq', 'nose', 'zoqe', 'lovzt', 'loreq', 'lofee', 'lovly', 'lonz', 'lovzv', 'gtve', 'hode', 'rovy', 'qxve', 'vovc', 'lyvej', 'loib', 'lske', 'rone', 'yovp', 'zuve', 'joye', 'lpved', 'uoue', 'bive', 'lbwe', 'luvv', 'lyqe', 'lzvh', 'loveqo', 'lude', 'lodw', 'loheo', 'lobb', 'loveyg', 'losv', 'qovex', 'zore', 'logeu', 'oovp', 'lodeg', 'foveq', 'oovec', 'llle', 'loks', 'lovm', 'iooe', 'dbve', 'lomj', 'mvve', 'lotez', 'lopc', 'aovew', 'toveg', 'fovez', 'lolea', 'lovesy', 'louev', 'joe', 'lwvem', 'lbvu', 'aoje', 'lavi', 'xovv', 'lokej', 'more', 'iovy', 'lihe', 'lrver', 'tope', 'lnvc', 'lovjg', 'lovdq', 'loxr', 'lovgc', 'udve', 'labe', 'lzme', 'zive', 'loxo', 'lovehi', 'lovvl', 'lobu', 'ljvev', 'lopo', 'loqc', 'lgvez', 'eohe', 'lpue', 'lovph', 'lotc', 'lovct', 'lovog', 'xoie', 'lotg', 'qoie', 'yovw', 'ltze', 'woxe', 'lovebs', 'loviz', 'olvo', 'uope', 'loveyy', 'lqde', 'lovjm', 'xovr', 'lfvv', 'lpse', 'lnfe', 'lohep', 'tovv', 'bovew', 'ioke', 'lozey', 'lodb', 'lomeh', 'loheb', 'soveu', 'lpven', 'lzveb', 'hovj', 'lbve', 'lovof', 'livl', 'lize', 'egve', 'lsvez', 'lvye', 'olvk', 'oovh', 'lovyw', 'lovrl', 'lowex', 'loveml', 'lkven', 'hoev', 'deve', 'ggve', 'tsve', 'iqve', 'ltvk', 'louek', 'lovht', 'lodl', 'lovjk', 'aoye', 'soye', 'loveb', 'lovui', 'ioge', 'lovga', 'xovo', 'code', 'lyveb', 'lbvew', 'lavy', 'lzvx', 'loqen', 'lkze', 'laveu', 'yovev', 'lvf', 'loveul', 'lhveo', 'lovebu', 'lovnb', 'mdve', 'lcvj', 'hove', 'iovh', 'lxvx', 'sovb', 'lovelm', 'lybe', 'llveu', 'loor', 'bovec', 'ajve', 'loref', 'gore', 'hovea', 'lmvv', 'lovxc', 'lyvm', 'lmse', 'lwvu', 'vore', 'lovej', 'loges', 'qpve', 'ldne', 'lovtt', 'lovix', 'toveq', 'loyw', 'aovem', 'lopem', 'eoveh', 'rova', 'liva', 'lnke', 'boven', 'govn', 'lovps', 'lohek', 'iole', 'lsvei', 'novp', 'lobh', 'dovx', 'lvei', 'zovd', 'yve', 'lovsn', 'lovhl', 'loip', 'uovs', 'lovmm', 'tive', 'lovci', 'loxx', 'lcee', 'loaz', 'doveq', 'hgve', 'tvoe', 'dpve', 'jovi', 'olne', 'lonei', 'ltvn', 'nyve', 'losw', 'rov', 'ovv', 'lmte', 'lovepr', 'wtve', 'lgvs', 'lovebc', 'loueq', 'lcvw', 'lzvt', 'lobei', 'ldvd', 'lavf', 'wnve', 'loveie', 'lwte', 'loeey', 'lovmh', 'ljvm', 'lomey', 'lovqf', 'loveeo', 'lxfe', 'loaej', 'loba', 'tovo', 'voue', 'lovehx', 'ote', 'lokep', 'roce', 'loveje', 'ovem', 'luvd', 'lbvez', 'liveq', 'lovefc', 'loveeg', 'lovpc', 'lovezt', 'lovgn', 'aovey', 'lovely', 'hsve', 'umve', 'qohe', 'lomek', 'wvve', 'drve', 'lovezn', 'uoveq', 'pdve', 'lokp', 'loveva', 'lovehk', 'lovei', 'loaei', 'lovwa', 'lonee', 'luke', 'llvd', 'loxep', 've', 'mode', 'bovee', 'rovee', 'livel', 'lsvm', 'lodi', 'lomeo', 'jome', 'qoye', 'lovehh', 'iovp', 'xovet', 'lovtg', 'uuve', 'govep', 'loueh', 'lole', 'olwe', 'lovesa', 'lbveo', 'lovefl', 'lozeb', 'ysve', 'ldvx', 'lovqp', 'movb', 'zdve', 'lovets', 'znve', 'lovkb', 'lovas', 'lovhh', 'rjve', 'axve', 'lcbe', 'lokee', 'lowt', 'lovte', 'lokez', 'cover', 'bovm', 'eovet', 'lovenq', 'lkveh', 'lomeg', 'ltte', 'toveo', 'aive', 'lozev', 'lovejs', 'loeeo', 'ltpe', 'tovel', 'lovuf', 'eovu', 'gove', 'lovenx', 'yoae', 'bohe', 'lavef', 'lyvt', 'loveqp', 'novez', 'loneo', 'lovwd', 'lvvl', 'kvve', 'lovevr', 'lonh', 'xcve', 'lzze', 'nuve', 'ohe', 'ooqe', 'ljvc', 'loiez', 'aoue', 'lovegb', 'lsvey', 'lovekh', 'lovema', 'lpvq', 'bovq', 'lcve', 'kbve', 'losec', 'lovhb', 'livr', 'yoye', 'lkge', 'povet', 'lva', 'lode', 'lhke', 'vnve', 'lovefe', 'loveyp', 'vovek', 'lvte', 'lhvi', 'iovek', 'bovs', 'lovzi', 'ioue', 'lovhf', 'xovs', 'lfoe', 'lovak', 'lyfe', 'ldvel', 'lpvr', 'okve', 'logy', 'lovty', 'tove', 'iovd', 'lkvev', 'lyvb', 'lgvep', 'lbves', 'dve', 'lrvex', 'livez', 'novl', 'ljvei', 'loiea', 'llpe', 'loqed', 'lovecq', 'liwe', 'qovj', 'loverh', 'ljvx', 'lozek', 'lvxe', 'lovtp', 'lxveq', 'loc', 'bvoe', 'looex', 'wovy', 'loqee', 'lovkr', 'soveb', 'lovess', 'lovekb', 'lovok', 'lofeo', 'movc', 'lovv', 'lovemw', 'lhvu', 'toved', 'lovegp', 'rvve', 'qive', 'lzvw', 'vcve', 'lkwe', 'lzne', 'lopeo', 'eovi', 'wfve', 'loky', 'ovef', 'lovrj', 'sowe', 'lyveq', 'olhe', 'lage', 'uoveb', 'zone', 'iovex', 'luvf', 'logei', 'lhvd', 'luxe', 'lovebf', 'looec', 'unve', 'lofeq', 'oover', 'bovr', 'loieb', 'ovn', 'lxvej', 'vve', 'yovd', 'qovp', 'eone', 'bovf', 'sgve', 'voge', 'uovm', 'ljue', 'lrvn', 'lotz', 'lovepe', 'loxew', 'lbre', 'lsze', 'losm', 'olvey', 'dome', 'ooveo', 'ldke', 'kofe', 'lbvn', 'pohe', 'lovewf', 'loveyk', 'lovaq', 'lzvk', 'eovec', 'rlve', 'lqle', 'goce', 'jeve', 'loqo', 'lvven', 'wovk', 'loaa', 'lovezk', 'lzle', 'hoveb', 'lolv', 'lopej', 'lnveo', 'lots', 'loveep', 'lvvet', 'lcvd', 'lovpa', 'lcvl', 'eovee', 'qoke', 'soae', 'lokew', 'gone', 'lopey', 'rcve', 'lovfb', 'lovegl', 'zovi', 'ngve', 'laxe', 'lmvk', 'lopf', 'lovvt', 'loww', 'goue', 'lcvey', 'cpve', 'lwne', 'lbvf', 'zovp', 'yovm', 'zxve', 'ljge', 'llvc', 'goveb', 'liveu', 'fose', 'lavej', 'lvce', 'lqge', 'aave', 'lovpy', 'lovif', 'lvez', 'hovec', 'loyed', 'olvx', 'novk', 'sovv', 'lovsb', 'xovy', 'yovew', 'loveiv', 'lowew', 'loxec', 'lgvej', 'loveeb', 'loqek', 'loveu', 'lnvn', 'govt', 'logr', 'lcvo', 'vovp', 'lsfe', 'lovrk', 'olre', 'ltxe', 'loveqm', 'ddve', 'dovh', 'awve', 'lovefm', 'lohl', 'soie', 'jowe', 'loeen', 'etve', 'pode', 'lose', 'lqvz', 'ljveo', 'vxve', 'lozes', 'ovo', 'lava', 'lzvu', 'dovs', 'lkvef', 'lovjx', 'lyvei', 'oovi', 'llvh', 'dovd', 'lovvd', 'lovno', 'looq', 'eoce', 'pqve', 'lovbj', 'xovel', 'lovewq', 'jode', 'loaem', 'uov', 'loweh', 'loneq', 'lovelk', 'loiem', 'czve', 'lovfz', 'luvei', 'lovepf', 'looi', 'lohd', 'loyek', 'luveh', 'lovebe', 'eovp', 'lxvew', 'lbver', 'kooe', 'loveyq', 'pyve', 'lovx', 'loqef', 'lobo', 'oyve', 'noue', 'lbvq', 'oeve', 'xovew', 'lobef', 'fpve', 'covu', 'levj', 'lvon', 'oovx', 'goee', 'lovbc', 'ldvh', 'dovt', 'losek', 'lzvei', 'looj', 'looej', 'lvox', 'lovul', 'laved', 'iover', 'cofe', 'lolr', 'ltvr', 'lovefr', 'twve', 'voae', 'lmvg', 'boev', 'roze', 'lovxo', 'ihve', 'five', 'loveus', 'lovesw', 'lovepq', 'lxde', 'vle', 'voveb', 'lovewn', 'lored', 'sose', 'lovebk', 'lgvm', 'loeee', 'lece', 'loveyo', 'auve', 'loveqb', 'loaeo', 'lgvec', 'lovlp', 'bjve', 'govy', 'xovc', 'le', 'povm', 'mose', 'rovew', 'lgne', 'loves', 'lovmt', 'vlve', 'olvew', 'lfge', 'ovm', 'lovehr', 'lonek', 'lozw', 'lhe', 'lphe', 'levee', 'levem', 'eovg', 'lowi', 'leveo', 'lodeu', 'zmve', 'lwvef', 'yovem', 'muve', 'louea', 'bovet', 'loveom', 'cmve', 'lovzq', 'ljva', 'logez', 'lovegy', 'yoev', 'luvee', 'llev', 'lovesb', 'lozem', 'lrven', 'lvb', 'loveoy', 'lovdm', 'lozed', 'loun', 'covex', 'gve', 'looo', 'bovek', 'loveyh', 'lovekg', 'lof', 'loiex', 'lxvd', 'lfvee', 'lozer', 'toveb', 'wjve', 'enve', 'goae', 'lovezg', 'levg', 'lrke', 'lobew', 'koxe', 'kovv', 'lvvex', 'lyvw', 'lovepn', 'foqe', 'lovme', 'eovel', 'loveia', 'lwvec', 'loneg', 'loced', 'lfvev', 'yoven', 'nowe', 'xkve', 'locw', 'lolec', 'govi', 'lsvo', 'loueu', 'louez', 'roke', 'lovequ', 'lgver', 'novf', 'kose', 'lvvt', 'uoge', 'ovi', 'olveg', 'lonef', 'lzvea', 'dovm', 'loiep', 'olvf', 'coie', 'oovl', 'lnve', 'jovo', 'dovew', 'lcxe', 'lovqh', 'yowe', 'sov', 'lovemd', 'lomc', 'lovmu', 'lowg', 'lyveo', 'loses', 'lavei', 'logt', 'lvvj', 'lovetw', 'lovjc', 'ovj', 'lfvw', 'lzvey', 'fve', 'lvvu', 'lwle', 'govz', 'lohm', 'lovmb', 'lofel', 'lele', 'wovb', 'ztve', 'lpbe', 'lovecg', 'zome', 'lpvh', 'hoved', 'leae', 'lodeb', 'livz', 'ltvea', 'xovd', 'sooe', 'losl', 'lovgr', 'roae', 'loveng', 'orve', 'povr', 'iovu', 'xive', 'iovf', 'lhves', 'lojen', 'lovnr', 'lavc', 'loxs', 'voye', 'tovej', 'aone', 'lhpe', 'lovat', 'zovt', 'xove', 'kovs', 'lvoed', 'tovm', 'lbke', 'lqce', 'lgvei', 'govel', 'lovyk', 'lege', 'novem', 'fovc', 'lfvm', 'zovez', 'lavm', 'lovrd', 'lovou', 'lovefd', 'lone', 'koee', 'lobes', 'lovexk', 'lovenp', 'lgee', 'lovrq', 'dovl', 'goe', 'loxee', 'lgvj', 'loxeo', 'lrfe', 'olvee', 'woev', 'loaef', 'lovers', 'lvc', 'lfven', 'rovr', 'lke', 'lule', 'levp', 'lovexy', 'moze', 'lovla', 'novs', 'lhv', 'locz', 'foveu', 'ltse', 'vovk', 'lrvek', 'lqveh', 'lhvj', 'lomep', 'lbbe', 'loveec', 'lovnw', 'loevn', 'lkvem', 'joge', 'rovh', 'lovetc', 'logc', 'lhvea', 'lovepw', 'lodd', 'lopex', 'ooveu', 'lovuv', 'lors', 'lovedt', 'lhvp', 'lozu', 'loseh', 'rnve', 'lkvh', 'lovqw', 'povev', 'loa', 'llye', 'llne', 'ecve', 'povex', 'lkvj', 'lhge', 'loveqz', 'lovck', 'lojei', 'lkbe', 'luvx', 'loieh', 'sovx', 'zovn', 'lxre', 'lmvt', 'loqd', 'xoee', 'lobl', 'loveim', 'xeve', 'lfve', 'eov', 'lbae', 'wzve', 'lxva', 'ljvz', 'lovaa', 'lovrn', 'lbqe', 'jovek', 'lgvz', 'ldvy', 'lhvf', 'lhoe', 'loiv', 'ldpe', 'lwvf', 'ldvev', 'vsve', 'fovg', 'vovet', 'lozei', 'lovwg', 'oveh', 'xve', 'loha', 'lzye', 'eode', 'lovam', 'leo', 'lvz', 'lozg', 'onve', 'loxp', 'lovhn', 'lnvr', 'yovs', 'wole', 'lovow', 'rovel', 'lovegh', 'ltce', 'luveo', 'loteb', 'ooge', 'lovell', 'lyvee', 'loweu', 'hoveq', 'coe', 'wose', 'loveq', 'lotb', 'lcme', 'lomq', 'lovepy', 'lovejm', 'loveho', 'log', 'lovbd', 'wone', 'lovetx', 'fhve', 'lovgj', 'loveww', 'govet', 'lqvew', 'jovez', 'loxer', 'voke', 'lovfd', 'novef', 'luvef', 'lpqe', 'eoved', 'lvoet', 'lovjl', 'lovepu', 'lgvi', 'loveub', 'life', 'lovezv', 'lcev', 'lovus', 'lorn', 'lyhe', 'kovt', 'lovesc', 'lvoes', 'lcvg', 'lonm', 'lsvj', 'lvoa', 'fovu', 'loveol', 'ldvt', 'loveh', 'zope', 'wovf', 'lovzd', 'lvo', 'loveua', 'aowe', 'ljvi', 'tova', 'lrxe', 'poje', 'lovewj', 'ldwe', 'kovw', 'lovns', 'lovzs', 'lovnf', 'lovkh', 'loverb', 'voveg', 'uoxe', 'vone', 'loty', 'lwge', 'qovo', 'aoveb', 'kgve', 'lvvw', 'qovej', 'woqe', 'lovd', 'lorew', 'ljje', 'lovey', 'novd', 'lovekx', 'lojl', 'lovjh', 'lfvez', 'lovqe', 'lkvej', 'lofec', 'wovm', 'lve', 'poze', 'lcse', 'losew', 'livd', 'lotr', 'lovzk', 'jave', 'lnvt', 'bovd', 'ltveu', 'lzvm', 'sovej', 'lnvej', 'luvn', 'olee', 'uova', 'loveag', 'ifve', 'zgve', 'yovf', 'olye', 'lwvb', 'lete', 'loxem', 'ltvm', 'lbvef', 'lovmk', 'rmve', 'oveo', 'loyey', 'lmveu', 'lzvz', 'lovxn', 'lovefv', 'abve', 'lveu', 'lfte', 'dover', 'vovj', 'cxve', 'lre', 'losei', 'coev', 'povez', 'olvei', 'oofe', 'sovex', 'oqe', 'olva', 'lmvd', 'oloe', 'loou', 'bote', 'oovei', 'loyet', 'povee', 'loyel', 'loiz', 'ldvea', 'iovg', 'qovh', 'loqg', 'lovsz', 'lbvl', 'loveln', 'lovhq', 'lovhu', 'lbveq', 'wovo', 'movep', 'yive', 'lojd', 'lcved', 'lfvey', 'mqve', 'lghe', 'voee', 'laveh', 'livp', 'lare', 'dova', 'uove', 'lfme', 'lxvez', 'wovl', 'koue', 'lxvi', 'zovr', 'wovt', 'olfe', 'llven', 'aovw', 'louew', 'losex', 'xovk', 'lsve', 'lzvep', 'oovy', 'lobw', 'lovdp', 'liveg', 'ooved', 'uoveh', 'lcvee', 'lovbl', 'loveow', 'lrvj', 'lqvei', 'lovsl', 'lfvej', 'eovv', 'louex', 'tmve', 'mve', 'yome', 'loren', 'goveo', 'lkvi', 'lovcv', 'luge', 'lavv', 'lown', 'lovtr', 'lovjv', 'loneb', 'movet', 'qone', 'levz', 'lovegz', 'lnver', 'lbveg', 'lwvek', 'lolep', 'foveb', 'lvme', 'iovo', 'lvpe', 'wovev', 'lxee', 'luoe', 'lovenm', 'acve', 'ldfe', 'lozex', 'lovoo', 'ouve', 'eovea', 'jgve', 'covez', 'loeec', 'sovea', 'fobe', 'lokl', 'loveix', 'iove', 'kovek', 'loveeq', 'lxvv', 'lovml', 'lovba', 'lofx', 'lovear', 'lovit', 'lxvek', 'luce', 'lofen', 'ldvex', 'oveb', 'oovc', 'jcve', 'loveno', 'vloe', 'liev', 'aohe', 'lbvex', 'roqe', 'xoxe', 'lovvr', 'loes', 'ldde', 'adve', 'iore', 'vzve', 'lovesl', 'loux', 'livek', 'looew', 'loveot', 'ljbe', 'lovon', 'loveew', 'lpvl', 'lhvx', 'lovts', 'oovf', 'loau', 'vovb', 'bxve', 'loveed', 'lgveg', 'loly', 'loveil', 'yave', 'rope', 'povef', 'lvq', 'levew', 'eovq', 'lodq', 'cov', 'lpvef', 'lovxr', 'lavet', 'lwvew', 'loiel', 'lfvr', 'govey', 'lovo', 'lovnd', 'lonn', 'wovs', 'ova', 'thve', 'uovev', 'rovm', 'lxvr', 'loyn', 'xvve', 'loqx', 'govp', 'wxve', 'loqh', 'lonr', 'lsge', 'vrve', 'lovevb', 'dvve', 'ldv', 'qoxe', 'lotv', 'loveya', 'lvoer', 'uovo', 'jovp', 'kobe', 'lcveb', 'lobz', 'hoye', 'loeeg', 'govh', 'slve', 'vovi', 'lmqe', 'lvver', 'joveq', 'lovevw', 'lovmd', 'lovedj', 'urve', 'loveez', 'rqve', 'vovea', 'lodeo', 'lwvee', 'kovd', 'loqy', 'rovq', 'doveo', 'mover', 'lnae', 'loveyj', 'gjve', 'kovy', 'lgven', 'aoves', 'uovr', 'lfvel', 'loyx', 'lofed', 'livew', 'zover', 'loth', 'roje', 'wowe', 'loic', 'lovtl', 'lovepv', 'lofes', 'xoae', 'lowz', 'los', 'luvea', 'kovh', 'woie', 'lovepc', 'jofe', 'eofe', 'luvt', 'povek', 'aovep', 'cgve', 'lovele', 'lnvep', 'joveb', 'lbe', 'lovfs', 'logp', 'iovm', 'lovol', 'loveip', 'poev', 'lgvet', 'lovrc', 'lev', 'lopn', 'vovem', 'lzie', 'lovexr', 'lonj', 'lovesn', 'lomeu', 'lovvg', 'bovel', 'loeea', 'lowed', 'loveoa', 'lovql', 'loveea', 'lovegt', 'lopei', 'lovetb', 'lqvet', 'zovk', 'lomez', 'sovz', 'lfvei', 'lovsq', 'lojed', 'ljvey', 'levec', 'lzveu', 'lmbe', 'lovdh', 'covey', 'xovg', 'loevd', 'mnve', 'xdve', 'vope', 'lzvq', 'lovxp', 'toven', 'lvveh', 'ixve', 'hoge', 'sovem', 'sovf', 'covep', 'aovl', 'lxvex', 'lovhg', 'lhva', 'rzve', 'lonq', 'loned', 'loze', 'govew', 'coves', 'lovdx', 'llvw', 'luvi', 'lzqe', 'lmveg', 'ffve', 'lzveo', 'yone', 'doge', 'lovvx', 'rovv', 'zoie', 'qore', 'lofeh', 'lodk', 'zoved', 'jovm', 'lomet', 'loverz', 'low', 'lovmf', 'loieq', 'eoxe', 'vwve', 'loff', 'lbvb', 'yoveb', 'loiy', 'lodel', 'tgve', 'bpve', 'loxea', 'lsde', 'lfue', 'lcvea', 'lrvew', 'loaf', 'lovqd', 'lotee', 'lovab', 'covt', 'govc', 'lovyh', 'uyve', 'wovh', 'lyvep', 'lovelv', 'feve', 'fote', 'lozez', 'loveog', 'loveuz', 'ebve', 'loim', 'losel', 'tovu', 'lvoc', 'locef', 'lfvb', 'yobe', 'lvvx', 'lobi', 'lodc', 'lvfe', 'lovvb', 'obve', 'tovw', 'lsvex', 'lkvm', 'pose', 'ooae', 'lovesi', 'qtve', 'roves', 'lvvek', 'loaeq', 'lyvef', 'eoveb', 'lgse', 'leveg', 'lsvem', 'llvg', 'lovews', 'wobe', 'loveey', 'lmvec', 'lobx', 'lrae', 'loevy', 'ode', 'jovq', 'bov', 'zoveo', 'luvz', 'tvve', 'nbve', 'lvou', 'lwved', 'lovehj', 'lobc', 'loay', 'looel', 'lmvi', 'lkje', 'loevt', 'lovfv', 'lovekc', 'lopek', 'logw', 'vovel', 'povep', 'jvoe', 'lovehf', 'lovtk', 'lovgt', 'qove', 'lofz', 'lovezd', 'lyue', 'covm', 'lkvg', 'loevv', 'loveic', 'lowel', 'kove', 'lowa', 'crve', 'yovo', 'lnvf', 'ljwe', 'ukve', 'olven', 'lvj', 'lovehc', 'xovh', 'lvvep', 'rovep', 'lovext', 'fyve', 'lowem', 'lavj', 'eovex', 'zovet', 'lxvc', 'lock', 'loveka', 'lyvex', 'xoveu', 'lomn', 'lcae', 'lpveo', 'oovet', 'lowl', 'lzvi', 'loveen', 'loveuf', 'dave', 'lovehb', 'doue', 'uovew', 'tovem', 'lovsj', 'loai', 'boke', 'eover', 'lzvf', 'jovt', 'lxwe', 'govec', 'lorex', 'lhye', 'lupe', 'lovefy', 'aovea', 'lovemn', 'voqe', 'loob', 'lopd', 'gvve', 'sovr', 'llhe', 'lopb', 'lnves', 'loken', 'loveqi', 'sovm', 'lkre', 'lovlj', 'vbve', 'lrvb', 'lnvd', 'lwvm', 'loyen', 'eovc', 'ovex', 'gxve', 'novep', 'lyxe', 'lovevg', 'fovr', 'movz', 'lorr', 'ttve', 'uovn', 'moke', 'loyy', 'roue', 'lpvp', 'foev', 'lavl', 'lgv', 'ccve', 'lqvr', 'liue', 'doxe', 'loreh', 'tovek', 'lrvez', 'lovnx', 'doae', 'loeej', 'ooven', 'lovehv', 'koqe', 'fovex', 'yovu', 'lorm', 'lovxx', 'bave', 'lovenv', 'ltoe', 'eove', 'fovef', 'loaq', 'ojve', 'lkveg', 'bovn', 'lozi', 'yove', 'oovep', 'ooie', 'lotet', 'loteo', 'wovey', 'lhvej', 'roveu', 'llveh', 'foven', 'lovnn', 'tovc', 'lwoe', 'livt', 'loseu', 'tovt', 'uoveg', 'lovdo', 'povq', 'lovesh', 'ycve', 'laze', 'lovexw', 'voxe', 'lpvm', 'lqze', 'lovxk', 'joze', 'lrbe', 'lonb', 'zoe', 'lzke', 'lovmp', 'lmves', 'kave', 'loveuh', 'tlve', 'loap', 'lpe', 'olvz', 'lmva', 'jdve', 'loveju', 'ldveq', 'qoue', 'azve', 'lzee', 'jore', 'ltvek', 'oovez', 'lsvep', 'povu', 'lovegs', 'lovav', 'lolee', 'losd', 'woveq', 'lavb', 'vover', 'lokv', 'livg', 'iovx', 'lovelo', 'bovc', 'loge', 'movex', 'ovk', 'dive', 'locs', 'noves', 'locen', 'lovmv', 'liie', 'lmvee', 'ltvex', 'lime', 'lavek', 'ewve', 'lvse', 'smve', 'locp', 'dovea', 'aope', 'olvea', 'oovem', 'mpve', 'loveay', 'lovenz', 'loveyc', 'loveak', 'goke', 'sobe', 'lovrh', 'lqne', 'fovp', 'loveri', 'zovm', 'boves', 'lwye', 'lxvea', 'qovd', 'lovexq', 'lorv', 'mcve', 'bovem', 'lrvef', 'loveou', 'epve', 'lsvt', 'ppve', 'lovcw', 'loveae', 'lovvv', 'lon', 'lovnv', 'lovehu', 'lrvq', 'lofek', 'nsve', 'loaey', 'lvoev', 'lvoo', 'lovekq', 'lkvn', 'lovegm', 'lqbe', 'lobr', 'lble', 'aovek', 'logo', 'lovexl', 'wpve', 'loceo', 'luvb', 'lvoeg', 'lkveb', 'cole', 'avoe', 'kovb', 'lppe', 'lvze', 'vave', 'yohe', 'goxe', 'lonf', 'lojt', 'luue', 'xooe', 'loles', 'sovk', 'movec', 'koge', 'lork', 'olvi', 'lovfl', 'loui', 'loce', 'lovny', 'loja', 'lsvej', 'lovfx', 'qode', 'lvie', 'oovee', 'qmve', 'loreb', 'lgvef', 'louet', 'lgwe', 'lokea', 'cope', 'qlve', 'uovee', 'lgvq', 'goveh', 'pve', 'rovc', 'roye', 'lvvb', 'wcve', 'lroe', 'lkvt', 'luves', 'kohe', 'lozt', 'joev', 'xbve', 'lyvv', 'boge', 'bone', 'lwveq', 'boved', 'lavx', 'wovg', 'lofq', 'lovetk', 'lovees', 'lonej', 'loveyb', 'qovl', 'lojet', 'luveb', 'lxvm', 'lodec', 'lobet', 'wovr', 'ucve', 'loik', 'lovzg', 'lovcf', 'ldvc', 'goje', 'lovvp', 'zovz', 'lovy', 'qoveu', 'loub', 'covp', 'lfvep', 'xzve', 'hovt', 'lovvu', 'lovelf', 'llvr', 'kovex', 'lkee', 'lojel', 'loed', 'lons', 'lovfu', 'lipe', 'qofe', 'lgvev', 'lovgg', 'lze', 'voven', 'oxve', 'lopez', 'lrvp', 'lbveb', 'lobeh', 'lbvx', 'luae', 'lyvem', 'sovet', 'lpveb', 'lores', 'liqe', 'lovekp', 'ovc', 'lovcp', 'lwvel', 'loveqn', 'lrveg', 'loop', 'loverl', 'locev', 'lxie', 'loiej', 'loveue', 'povt', 'ole', 'loqey', 'tovr', 'yqve', 'lovta', 'coxe', 'lqe', 'lovgp', 'lovece', 'dovey', 'povg', 'lpvk', 'lovhy', 'loveqt', 'lcvf', 'lqvej', 'louej', 'povd', 'loia', 'lhveg', 'lvg', 'lokb', 'loveys', 'sova', 'vofe', 'lovekj', 'lgves', 'loreg', 'lkpe', 'logeq', 'aovu', 'fvoe', 'loyeo', 'loaj', 'lfvew', 'lovbi', 'tovez', 'lvoeq', 'sovu', 'lsvw', 'dovef', 'lvvs', 'lyvl', 'loveth', 'eoye', 'lbne', 'levez', 'lovewt', 'loveit', 'iovez', 'lrveq', 'lvi', 'lozep', 'toqe', 'lhvh', 'lmvn', 'xovea', 'lojj', 'lovsp', 'kwve', 'hofe', 'lous', 'loiw', 'olge', 'ljvex', 'lovkf', 'qovf', 'lmvew', 'lwveo', 'lqves', 'loiei', 'mole', 'lrje', 'lwveh', 'brve', 'xoveq', 'lovb', 'kovc', 'hoveo', 'dovet', 'lrvy', 'lopev', 'lzvv', 'lsvew', 'lbven', 'ldvee', 'lonl', 'lovuk', 'lovzm', 'loveiw', 'djve', 'lxvy', 'lokev', 'lmvj', 'uowe', 'lovezl', 'lvle', 'lovefs', 'povv', 'lavea', 'ceve', 'rovf', 'lovepb', 'wovu', 'ldev', 'lmvez', 'loveyu', 'uoke', 'lave', 'lvveb', 'aov', 'loka', 'lqje', 'ljven', 'lovxf', 'kovu', 'loverm', 'lxle', 'upve', 'lono', 'ftve', 'uvve', 'pvve', 'loem', 'loio', 'lobep', 'loyeh', 'iovk', 'lovlc', 'lfvt', 'lovyn', 'lodef', 'lxvj', 'lovds', 'lovdf', 'louec', 'lovenf', 'lmver', 'lbze', 'lzev', 'lowek', 'boje', 'nve', 'lovlh', 'locn', 'lcvec', 'lwze', 'lcvp', 'lovel', 'loked', 'lobeg', 'loal', 'vov', 'lovne', 'lfva', 'lsvg', 'nxve', 'lxvec', 'lkveo', 'ljvw', 'loss', 'lfse', 'ltde', 'tfve', 'usve', 'lkye', 'lxvey', 'lofo', 'ldven', 'lovegj', 'lonev', 'yoved', 'lfqe', 'qome', 'hovc', 'lovetr', 'lkvc', 'dohe', 'loveso', 'loceg', 'lvek', 'lovede', 'lob', 'lsvr', 'some', 'lovevx', 'eqve', 'poveb', 'locb', 'lveh', 'lowr', 'loveuu', 'lrvf', 'loeh', 'lovedg', 'looei', 'lsoe', 'novn', 'ioveh', 'lxvu', 'lomo', 'loqt', 'hovw', 'lor', 'lwvei', 'lofe', 'levex', 'loae', 'foveo', 'gmve', 'goveu', 'xjve', 'rovei', 'locez', 'rkve', 'lovemp', 'lvv', 'mova', 'lee', 'xovec', 'xwve', 'lovewh', 'lgveh', 'qowe', 'loas', 'oovo', 'lohel', 'loveqh', 'lvk', 'kovet', 'lkvep', 'lrvem', 'loveld', 'atve', 'loveba', 'lnce', 'lovemi', 'ljse', 'lovesm', 'lovept', 'lvue', 'mofe', 'rofe', 'luvg', 'ovle', 'ldvz', 'lovrr', 'lnvp', 'vovx', 'kovo', 'wkve', 'lovrt', 'livea', 'luveg', 'voveh', 'lohea', 'bose', 'tovf', 'llue', 'kovz', 'ldle', 'lovmc', 'dovg', 'aovf', 'lovehd', 'fova', 'lqven', 'lzvn', 'lte', 'lovsv', 'sovew', 'dowe', 'lnvq', 'llvea', 'lovhv', 'lopes', 'hvve', 'lozd', 'lfvo', 'vobe', 'lovefw', 'fove', 'lhvn', 'livi', 'vovy', 'lowp', 'llvk', 'ltvi', 'lojg', 'loqk', 'lotx', 'louq', 'cfve', 'dwve', 'toge', 'loca', 'lvol', 'cave', 'lqveq', 'lovig', 'lfveu', 'ldveo', 'ylve', 'rdve', 'locc', 'levr', 'loveov', 'lodet', 'prve', 'olqe', 'pope', 'wore', 'iode', 'lqvep', 'gome', 'lodew', 'qovei', 'laven', 'qoveb', 'lovetp', 'lavez', 'vovex', 'uovk', 'lovelh', 'lmvo', 'liver', 'qoveo', 'lorl', 'lqre', 'lovgh', 'lovwk', 'sdve', 'lnie', 'lovkx', 'covy', 'loevj', 'yoveg', 'soxe', 'loveyl', 'lovedy', 'lvw', 'lxvw', 'lrvz', 'fover', 'kfve', 'loevx', 'lqvw', 'lojq', 'hoveh', 'ope', 'lopen', 'ljvea', 'lovls', 'jovj', 'suve', 'loveda', 'livc', 'movu', 'llvo', 'loveac', 'koke', 'byve', 'eovek', 'olvy', 'lofn', 'boveo', 'luvem', 'looeg', 'toe', 'bovev', 'loveug', 'eoven', 'tovew', 'lovuj', 'loft', 'zvve', 'ldze', 'lovrg', 'lodex', 'lobea', 'lowet', 'zovei', 'lovekv', 'lovwv', 'lomh', 'lonu', 'aovp', 'lovejq', 'loveck', 'yovep', 'loeex', 'lofef', 'lcvq', 'loleo', 'qovee', 'lovwr', 'lwvs', 'zove', 'lbee', 'loog', 'lkde', 'lrveo', 'locu', 'loji', 'lxye', 'wve', 'pkve', 'lrvep', 'lque', 'lvveq', 'movew', 'bovt', 'ovoe', 'covd', 'tovey', 'uoven', 'oobe', 'tovk', 'loveuo', 'lohei', 'uoveu', 'coue', 'lovete', 'noved', 'lyvn', 'locek', 'lovos', 'yofe', 'lpvj', 'lsev', 'lovsx', 'lofp', 'lobf', 'lkhe', 'loex', 'lope', 'sovee', 'lovedd', 'lovelg', 'lovkt', 'lue', 'ldvn', 'vome', 'aoze', 'woveg', 'lotea', 'lcv', 'lovgw', 'zjve', 'lbhe', 'ooev', 'lvok', 'loket', 'lyvek', 'lojew', 'lovejy', 'qoe', 'lfje', 'jkve', 'lgvh', 'lume', 'lyye', 'lovqk', 'lsvn', 'loees', 'foze', 'uobe', 'line', 'lcvv', 'loveeh', 'ljoe', 'lonet', 'lovqj', 'lovi', 'lovecv', 'uovc', 'hova', 'boxe', 'voev', 'koce', 'sovh', 'lorx', 'lpvx', 'lovrp', 'lsveu', 'lsvel', 'lovso', 'lrvm', 'zova', 'voved', 'lzved', 'lfke', 'lnvl', 'lvoep', 'loey', 'ovec', 'tovx', 'lovau', 'eova', 'lzje', 'govek', 'lodo', 'lvvo', 'toje', 'locm', 'vose', 'ocve', 'povp', 'sofe', 'lovet', 'lovefp', 'lehe', 'neve', 'lavs', 'osve', 'goveq', 'szve', 'tbve', 'loaen', 'lomg', 'lovmy', 'loneh', 'lbse', 'ljvj', 'lonep', 'oae', 'uovd', 'vovh', 'lovhs', 'lcye', 'rovx', 'bhve', 'lovxi', 'ltvc', 'lols', 'lokek', 'aovg', 'lpvo', 'loveph', 'lwvz', 'lovetm', 'owve', 'lodej', 'eovl', 'lswe', 'loqep', 'poved', 'lovewg', 'sovp', 'tose', 'lqvev', 'lovezp', 'luse', 'lovdn', 'loveau', 'mbve', 'llze', 'lopj', 'loqej', 'lwvt', 'losed', 'lojej', 'lovjs', 'loef', 'loqew', 'lohb', 'koves', 'loeeb', 'yoe', 'yovj', 'lokd', 'lspe', 'loler', 'woge', 'lovesf', 'lomea', 'lhvg', 'lovbn', 'qovx', 'lowep', 'goven', 'looeq', 'lxveb', 'tjve', 'lovez', 'loxc', 'glve', 'oven', 'jone', 'lody', 'bovep', 'lokx', 'bcve', 'jqve', 'zovb', 'qovq', 'loveoc', 'aoke', 'fovz', 'vkve', 'ipve', 'eoee', 'lovug', 'covn', 'ltue', 'lhje', 'lvev', 'loveef', 'goveg', 'goev', 'oovm', 'loveah', 'nmve', 'olxe', 'lovebo', 'lony', 'lpvee', 'lolm', 'lovew', 'covv', 'lzvec', 'woe', 'lovst', 'logev', 'lopy', 'loyeb', 'tovi', 'lzce', 'lmae', 'lhvep', 'losej', 'hve', 'bmve', 'xpve', 'yoce', 'lowq', 'loqz', 'qave', 'lovegk', 'lzvef', 'lovrz', 'lmvp', 'nome', 'lwvez', 'loyo', 'lohk', 'jover', 'lovdl', 'lovri', 'lbvt', 'loxej', 'lowv', 'lojem', 'lovgd', 'xome', 'hqve', 'lzae', 'dvoe', 'qovez', 'lqvu', 'qoves', 'lovesr', 'lbvel', 'bovex', 'lvoj', 'bnve', 'lovru', 'sohe', 'rvoe', 'dovz', 'doie', 'ymve', 'noje', 'lvel', 'oove', 'coze', 'lzv', 'lsvh', 'logb', 'lbje', 'lzse', 'eovep', 'loveik', 'lovenc', 'lhvew', 'dovex', 'lkme', 'soveg', 'ltves', 'aote', 'logh', 'lmveh', 'loxeb', 'loceb', 'ovez', 'lods', 'zovev', 'meve', 'loveoq', 'lcqe', 'lovwi', 'loveax', 'lotev', 'jovz', 'loker', 'buve', 'srve', 'loud', 'lovexd', 'lgke', 'lovlr', 'povx', 'lones', 'jovs', 'lvx', 'lmvm', 'loxe', 'lrge', 'xovz', 'ohve', 'moves', 'ose', 'lovum', 'loverk', 'vovs', 'lrne', 'loyes', 'fovi', 'lokt', 'omve', 'qovew', 'lqvn', 'lom', 'govu', 'eovef', 'lwv', 'leee', 'loxf', 'aoev', 'llce', 'lobt', 'lpte', 'loteg', 'lovjt', 'loveff', 'nvoe', 'lovju', 'kovi', 'movd', 'lqqe', 'movf', 'lwre', 'lxved', 'lovezh', 'llv', 'lsvd', 'lrvey', 'bobe', 'loevi', 'lovesv', 'lae', 'lzpe', 'ioje', 'lkte', 'lbvc', 'mohe', 'lovexc', 'zovc', 'lfae', 'lovefo', 'loverf', 'lavp', 'zovek', 'eovew', 'rovz', 'loeem', 'lovebz', 'livee', 'lxne', 'covee', 'lvoel', 'logz', 'lodu', 'lovpi', 'tovy', 'lle', 'locew', 'rovs', 'luvj', 'loval', 'lcje', 'povea', 'lvy', 'kive', 'yvoe', 'lyveh', 'lovfn', 'lovlo', 'loi', 'luvc', 'fovl', 'loqer', 'lovay', 'ovep', 'lovbf', 'olvez', 'pome', 'lfvg', 'lovbz', 'lool', 'lovpx', 'lovetl', 'lixe', 'uose', 'lovgy', 'lovtb', 'lovemh', 'sovn', 'loveqg', 'coveq', 'ooveh', 'olvt', 'lovecz', 'nhve', 'vhve', 'llvl', 'lkvz', 'lomd', 'oome', 'gole', 'xovef', 'vote', 'lotex', 'lpvt', 'loxef', 'lobez', 'loteq', 'ofe', 'lovee', 'loej', 'lbie', 'gqve', 'yose', 'lyge', 'lotl', 'lrse', 'lovxl', 'lover', 'lorey', 'jhve', 'tode', 'lcvej', 'lgvy', 'qgve', 'kovey', 'lovett', 'lofw', 'zovf', 'lpvez', 'cjve', 'kovef', 'ooye', 'lovna', 'zoves', 'novo', 'lmue', 'oveq', 'lrvej', 'roveg', 'eovf', 'move', 'lkxe', 'loveqy', 'lodee', 'kovf', 'lovoi', 'lovip', 'yoze', 'lovenr', 'lozeu', 'lvej', 'woye', 'lxvl', 'lovkm', 'loeez', 'ovg', 'home', 'lovqt', 'liae', 'woves', 'qoqe', 'loyh', 'lovkj', 'dkve', 'ovq', 'lovevc', 'lovxg', 'lyvz', 'novey', 'qoce', 'lcvt', 'loof', 'lorek', 'ejve', 'loso', 'moveq', 'lpfe', 'cqve', 'iovb', 'lwvev', 'looey', 'tovef', 'soje', 'lofs', 'lobee', 'lbvv', 'lovpn', 'lorh', 'lavk', 'uoye', 'sovez', 'zve', 'loew', 'lpveg', 'yovee', 'lowev', 'lmvr', 'ldvez', 'levey', 'lovvi', 'luvec', 'pjve', 'lfwe', 'koveo', 'novee', 'lovfg', 'lovma', 'oovj', 'kve', 'dovei', 'lovyx', 'lovlk', 'lioe', 'lorer', 'knve', 'ljte', 'lkfe', 'looek', 'goves', 'jlve', 'lsvek', 'loe', 'hnve', 'hovee', 'rovt', 'jwve', 'zov', 'dovq', 'livx', 'povel', 'tover', 'lovmn', 'novt', 'lovenl', 'lofew', 'lovti', 'ldvf', 'lmxe', 'lmveb', 'livm', 'zeve', 'lkvl', 'laoe', 'leke', 'lvvd', 'luee', 'lrhe', 'doee', 'jobe', 'movm', 'lovpt', 'lvbe', 'coved', 'noge', 'lovego', 'wovi', 'lzven', 'hjve', 'eote', 'lot', 'ldvw', 'cuve', 'lozeh', 'lwue', 'iovv', 'lice', 'tzve', 'lovejx', 'lgvr', 'lovde', 'moje', 'lvof', 'lovena', 'wovef', 'lowy', 'lhwe', 'lovu', 'lovsi', 'joqe', 'soveq', 'logx', 'lovemk', 'uwve', 'lovkn', 'lovevv', 'luvw', 'mome', 'bovi', 'logs', 'lovss', 'lmvy', 'fkve', 'lovevs', 'lmvh', 'ltvew', 'loln', 'lomew', 'poqe', 'lrveb', 'loyk', 'lovezc', 'losy', 'dfve', 'lovyz', 'rome', 'lhne', 'kzve', 'lovelq', 'ovel', 'lovms', 'tome', 'ldoe', 'lyvec', 'moven', 'lorep', 'loverv', 'covh', 'olvg', 'poveh', 'lthe', 'laves', 'novei', 'lmze', 'lxvb', 'ovl', 'govx', 'noee', 'lovebm', 'lovezw', 'lnva', 'lori', 'looen', 'lbvey', 'luvo', 'llvej', 'lobq', 'eovs', 'lofej', 'utve', 'lovbw', 'loveav', 'lzue', 'lwvj', 'lovemb', 'loue', 'ovei', 'lmvu', 'wovc', 'lqvex', 'govo', 'lovvn', 'lovfp', 'fode', 'leved', 'zkve', 'dlve', 'lgveo', 'lowm', 'lojm', 'lcvem', 'vjve', 'lyke', 'lovewm', 'vovu', 'eovo', 'loeer', 'bovp', 'lotec', 'lbvea', 'lvoey', 'aova', 'ldvem', 'lrie', 'locem', 'boye', 'levx', 'lovyd', 'lovewk', 'qovk', 'loxt', 'lqvek', 'zqve', 'ltne', 'aoveq', 'covl', 'llvez', 'ljpe', 'loiey', 'loxd', 'lbvec', 'luvq', 'dnve', 'lolq', 'ovr', 'lovnt', 'qovn', 'lnvea', 'tovq', 'govez', 'zooe', 'noveg', 'lovcz', 'lyvel', 'woved', 'lovoh', 'dore', 'roxe', 'lojep', 'lsvev', 'vovei', 'lsveq', 'xuve', 'wgve', 'lovedm', 'nope', 'joveo', 'losev', 'ldvg', 'soue', 'lyvea', 'lyvh', 'ioved', 'lowk', 'doveh', 'vvoe', 'rovek', 'lodf', 'loveof', 'lvvej', 'loot', 'lore', 'iome', 'uovl', 'uovj', 'lovsy', 'tovee', 'lovbe', 'dovev', 'lbvek', 'lkne', 'kyve', 'hoe', 'lovetv', 'ljde', 'loum', 'wive', 'ldvet', 'coveo', 'lojp', 'louh', 'lovzp', 'livq', 'lmvq', 'lovrw', 'laqe', 'zovj', 'lovgu', 'ovy', 'uovt', 'lhveu', 'qovu', 'movx', 'louu', 'sovo', 'joie', 'lyvx', 'lovsr', 'loveej', 'louey', 'lwwe', 'zoae', 'lzge', 'loqu', 'lxves', 'loiet', 'lovemu', 'lowei', 'lqvea', 'tyve', 'lovezf', 'aole', 'lnme', 'lota', 'lkva', 'loreu', 'loseg', 'lorej', 'moue', 'woven', 'locec', 'bovx', 'zovh', 'loviy', 'gnve', 'dmve', 'none', 'aovv', 'poxe', 'yhve', 'wovep', 'locv', 'have', 'aovex', 'loveqf', 'olveu', 'qoveq', 'lovad', 'lovnp', 'novy', 'goge', 'lkvek', 'lovemt', 'movey', 'govej', 'zohe', 'lbvei', 'lovoe', 'livet', 'eoge', 'ilve', 'rohe', 'loeel', 'lohey', 'covj', 'loverx', 'iovr', 'lokeg', 'lovejr', 'yope', 'noveb', 'lyev', 'lolh', 'ljvee', 'lyvc', 'lyee', 'lfde', 'bovej', 'dovez', 'hoie', 'toke', 'povej', 'lokeo', 'lgle', 'povh', 'fwve', 'loveg', 'jovx', 'doje', 'zave', 'loveud', 'lfvp', 'loxey', 'livs', 'aqve', 'lrvd', 'tqve', 'lomb', 'lovpz', 'pote', 'covei', 'olse', 'lxvs', 'lonea', 'ione', 'lese', 'lovecs', 'ltvl', 'llae', 'lxme', 'xoves', 'loceh', 'llveg', 'jovh', 'hote', 'ltbe', 'locey', 'loveze', 'loies', 'novw', 'lovekk', 'loneu', 'lovexi', 'lovejl', 'xoven', 'lolb', 'losz', 'looa', 'lovcs', 'loter', 'lpwe', 'lovesd', 'dovel', 'lovegw', 'lmv', 'hlve', 'lokn', 'qovm', 'aovn', 'liveh', 'lmveq', 'vowe', 'lcce', 'loxel', 'cone', 'llde', 'lnvem', 'llvu', 'lovao', 'fovy', 'lvr', 'covo', 'iohe', 'ufve', 'lovebh', 'tore', 'loveha', 'lovenb', 'hovd', 'loveqd', 'lkvex', 'rover', 'aove', 'lnven', 'lfxe', 'lovgv', 'lcver', 'idve', 'loief', 'loweo', 'woveb', 'ovve', 'zovg', 'sovei', 'lgvb', 'toye', 'loien', 'loxed', 'lonex', 'loevh', 'wbve', 'loveza', 'tovep', 'lovho', 'lovrf', 'leze', 'rhve', 'luver', 'hovey', 'loam', 'lmge', 'lyveg', 'lomef', 'lzveh', 'loleh', 'lobe', 'boue', 'qzve', 'iovep', 'lovect', 'wrve', 'hfve', 'lyves', 'covel', 'lojf', 'logu', 'eovey', 'lomi', 'losh', 'eyve', 'lovbu', 'lovtf', 'lovve', 'lple', 'loveuc', 'lzvy', 'yovet', 'ljvq', 'lovkg', 'jovew', 'movej', 'gooe', 'lojx', 'woje', 'loaes', 'lovhw', 'lofeb', 'looeh', 'lxvee', 'olue', 'lmve', 'loif', 'ltva', 'leqe', 'olvv', 'lvem', 'ltee', 'lgvk', 'lofc', 'gofe', 'lhle', 'uhve', 'lorw', 'fovk', 'bovh', 'loxei', 'loevc', 'lovef', 'koveh', 'uovea', 'loqeo', 'loaer', 'loz', 'moveo', 'covem', 'iwve', 'lovejj', 'sive', 'ujve', 'lmvem', 'loveye', 'lovyr', 'loei', 'fovek', 'ljv', 'moved', 'lovud', 'lnxe', 'eoqe', 'loveqw', 'lovelx', 'loqei', 'lsae', 'olvh', 'lovepz', 'ljae', 'lvvc', 'lovux', 'loviw', 'lwvp', 'xoye', 'eole', 'pcve', 'lepe', 'lovfc', 'loveaw', 'logg', 'lovpe', 'uore', 'hovv', 'lovgk', 'ovw', 'lvvi', 'lqvk', 'note', 'lovecb', 'xoveo', 'fovev', 'lnvh', 'laye', 'joveg', 'xovq', 'lsv', 'lpvew', 'soves', 'zowe', 'loit', 'lwveb', 'johe', 'lcvy', 'yovl', 'llvew', 'loveio', 'lovoa', 'ogve', 'ldbe', 'soge', 'lzvel', 'lvge', 'lfvek', 'lovegx', 'leveb', 'lcoe', 'looet', 'lovdg', 'eose', 'lovtu', 'loveer', 'foue', 'loyep', 'ljvel', 'lvd', 'tovec', 'loqq', 'lqvec', 'lovejd', 'lqie', 'loreo', 'swve', 'lodr', 'lche', 'foxe', 'lopu', 'lomu', 'jope', 'aovt', 'bovo', 'lpvg', 'lqveb', 'lbvp', 'loih', 'lohj', 'lvvg', 'ldvej', 'pov', 'logl', 'lozm', 'lovedi', 'qcve', 'leva', 'levei', 'lovua', 'llvev', 'hoce', 'lwde', 'lohev', 'tovl', 'loee', 'ljved', 'vooe', 'lower', 'joje', 'lotq', 'oov', 'lxvn', 'lodez', 'loer', 'olvm', 'sovt', 'lmvl', 'loveyn', 'ltvw', 'lgae', 'vove', 'lovelp', 'eovei', 'aome', 'kover', 'lavr', 'lohw', 'lver', 'lnge', 'lovro', 'amve', 'povw', 'lrvv', 'lxvg', 'loveoo', 'lhvev', 'lovoj', 'lxhe', 'lxveh', 'yovel', 'lovejn', 'joae', 'ltvey', 'lboe', 'wdve', 'wovew', 'yovec', 'tone', 'locg', 'lovwt', 'lohz', 'lvt', 'lgvv', 'poie', 'leye', 'eovez', 'dovee', 'sovek', 'lvot', 'lsveo', 'lvoei', 'povl', 'lovem', 'levl', 'lovzo', 'jfve', 'levo', 'yovc', 'youe', 'logeo', 'lvoeb', 'lsvc', 'lrue', 'lolen', 'lodn', 'lovea', 'lqvo', 'loveqj', 'llve', 'dovp', 'lovkd', 'rsve', 'level', 'kpve', 'xote', 'lpoe', 'loveki', 'ldve', 'qovea', 'ioev', 'lyze', 'lhhe', 'wope', 'lopa', 'locx', 'lorf', 'lyve', 'loci', 'lmvel', 'lopg', 'wome', 'lwae', 'lovpw', 'wovv', 'lovek', 'lcvi', 'lovezr', 'lovgl', 'lovewu', 'foae', 'lovhj', 'yjve', 'logef', 'lmme', 'lopm', 'loda', 'ljie', 'cvoe', 'geve', 'ltvev', 'ljves', 'loveps', 'lovep', 'lbva', 'lodey', 'lobec', 'loveev', 'noce', 'lowc', 'loleq', 'luqe', 'loael', 'ovev', 'lovedo', 'olver', 'ltye', 'lqvy', 'tovd', 'lpvn', 'xovey', 'lovmq', 'laev', 'losf', 'eoze', 'jovel', 'zoye', 'lovqg', 'one', 'lbvh', 'wovn', 'jovem', 'booe', 'coae', 'loil', 'lhev', 'igve', 'lmvex', 'lol', 'boveq', 'logn', 'lfver', 'loveup', 'lyvev', 'leoe', 'louv', 'lovjf', 'svoe', 'govr', 'loab', 'lyie', 'lwvi', 'lolt', 'ldvi', 'lpv', 'vovw', 'lhte', 'lovsg', 'jrve', 'wwve', 'nkve', 'lvvew', 'lmre', 'lje', 'lovex', 'lost', 'loteu', 'novet', 'lvoew', 'lojs', 'lohew', 'lkvy', 'uoved', 'lnvg', 'llved', 'lovesp', 'lfev', 'locl', 'lovyp', 'lpev', 'lovkl', 'lovegf', 'leje', 'lovai', 'loveok', 'wovd', 'ovee', 'yovk', 'loy', 'lovng', 'lhver', 'lovrv', 'lmev', 'loveql', 'fqve', 'lrye', 'iovl', 'qovef', 'ldvey', 'lokeu', 'oqve', 'lavey', 'lrre', 'loveru', 'laveo', 'loga', 'lvke', 'ljveq', 'zoze', 'oee', 'lyse', 'over', 'gowe', 'lovejb', 'tole', 'eovr', 'lodek', 'lovge', 'lpye', 'ooves', 'lvvei', 'govd', 'lvoq', 'lovff', 'lomw', 'voce', 'zyve', 'fuve', 'mave', 'lbvet', 'ltven', 'loj', 'lotew', 'lfveb', 'loveai', 'lgie', 'hovk', 'jve', 'loaeb', 'hovet', 'lzxe', 'lovwo', 'alve', 'lovnj', 'lovpo', 'lnvec', 'bovez', 'lsce', 'lomv', 'olje', 'irve', 'lsvs', 'loig', 'lovdi', 'fov', 'lwver', 'voves', 'loevw', 'otve', 'movei', 'zoveq', 'lome', 'lovll', 'lobm', 'ldveh', 'nfve', 'aovo', 'lcveu', 'lovap', 'xole', 'lqwe', 'loveja', 'lovtw', 'lhse', 'tovet', 'lozen', 'llvm', 'levt', 'lovekr', 'noie', 'kovej', 'loveiz', 'tve', 'covej', 'hoke', 'lxveu', 'movq', 'foves', 'dope', 'lovil', 'lopv', 'lovevq', 'lav', 'lovevp', 'loleu', 'lovda', 'lovag', 'wovw', 'loyef', 'leev', 'covc', 'laae', 'pzve', 'lie', 'lhfe', 'ldhe', 'lsie', 'olvs', 'lnvk', 'loeq', 'koze', 'lede', 'lovbx', 'lkvs', 'logew', 'foe', 'lovkq', 'lobem', 'lpvej', 'lovead', 'logv', 'vovez', 'lwvw', 'lqye', 'oovr', 'olze', 'povf', 'jovep', 'lovyq', 'yovr', 'izve', 'ltveg', 'lovemy', 'jovev', 'lotey', 'lkvea', 'novr', 'lovzz', 'llke', 'ldie', 'loger', 'aoqe', 'lovks', 'lovedx', 'toee', 'loel', 'lnje', 'hore', 'zoue', 'uover', 'lotej', 'lmvf', 'lbev', 'roee', 'loevm', 'uovg', 'rovez', 'late', 'eoe', 'lovejh', 'ltie', 'ssve', 'poveu', 'lovewy', 'lodm', 'qovv', 'lobeo', 'lcwe', 'lolp', 'lomeq', 'olvd', 'ldves', 'lovedw', 'lsvl', 'lovbp', 'lkvew', 'joce', 'lohr', 'lshe', 'lgme', 'luvu', 'laveq', 'lovic', 'lovcy', 'noven', 'lrvei', 'ydve', 'leme', 'fovem', 'lovepx', 'ovp', 'hzve', 'lodx', 'lovepg', 'libe', 'lvu', 'olvek', 'ltke', 'ltle', 'sqve', 'looh', 'louem', 'dov', 'lvos', 'coveb', 'lcfe', 'lozs', 'lovevn', 'lovecl', 'roveh', 'novek', 'yoqe', 'yrve', 'aoie', 'qovg', 'loier', 'jovn', 'lmke', 'lo', 'ayve', 'govf', 'lofh', 'llre', 'lovjz', 'lnveh', 'lovebx', 'yovn', 'lovgs', 'lovenk', 'eeve', 'lovedz', 'oje', 'yoee', 'loveor', 'loeeq', 'loeei', 'loaeu', 'lqke', 'csve', 'lovze', 'dqve', 'zoxe', 'hover', 'lozp', 'lhvw', 'lhveb', 'lavew', 'sfve', 'eoie', 'iovec', 'lozj', 'lhme', 'llvx', 'yxve', 'novex', 'lcveq', 'locep', 'lojeh', 'lovevt', 'loqez', 'lopw', 'lonc', 'roie', 'lovekz', 'povi', 'ljvk', 'logeh', 'vuve', 'zbve', 'oooe', 'loya', 'xova', 'lovur', 'doqe', 'loyq', 'lvl', 'lqvel', 'lovecf', 'fovb', 'lbye', 'loveds', 'bovy', 'xoue', 'foye', 'aoge', 'tov', 'iovev', 'olte', 'roveb', 'lkce', 'yoge', 'sore', 'lpze', 'wovei', 'loveoz', 'hoxe', 'cyve', 'nole', 'loqa', 'lvvef', 'louy', 'lkvo', 'lsvq', 'loveci', 'moe', 'covf', 'pwve', 'mgve', 'lovvs', 'louf', 'lotem', 'uooe', 'apve', 'loiek', 'ljle', 'loviq', 'looef', 'koveq', 'soveh', 'bome', 'llvt', 'lovecr', 'lfves', 'loder', 'lhvec', 'lcvk', 'poves', 'hoves', 'loaee', 'mzve', 'poveo', 'qve', 'foved', 'rovey', 'zovec', 'iovef', 'ltvv', 'gose', 'levq', 'lovhm', 'qoae', 'lgvew', 'lovpk', 'lmveo', 'loveo', 'lovepa', 'zvoe', 'rwve', 'lqpe', 'sovj', 'hovex', 'lveg', 'lovesz', 'jovet', 'lyoe', 'lobeu', 'loxu', 'done', 'doke', 'lfvq', 'aoxe', 'lorez', 'rovg', 'loqev', 'ljve', 'lnvz', 'lace', 'lhce', 'loveuw', 'lovdd', 'aovee', 'lvoeh', 'lovop', 'lcvez', 'lyde', 'lzvez', 'lvre', 'lqvq', 'rovea', 'lsue', 'ovew', 'lgbe', 'fone', 'lxvev', 'lwxe', 'eowe', 'xmve', 'govk', 'lpvc', 'lovza', 'lovems', 'lolez', 'vovf', 'iovi', 'aore', 'loyev', 'lovevy', 'luvew', 'eovy', 'lqvp', 'lpee', 'hose', 'lois', 'gave', 'emve', 'ave', 'lever', 'lnee', 'wote', 'lmne', 'nore', 'poveg', 'zovem', 'lnvex', 'lohh', 'lovlx', 'lcne', 'lqme', 'luvs', 'joven', 'lbvd', 'sovep', 'lovfw', 'lvae', 'wode', 'lovetn', 'lxpe', 'lovyv', 'fmve', 'yovej', 'uoveo', 'lvoek', 'fdve', 'dofe', 'luve', 'hkve', 'lovxj', 'laveg', 'lmee', 'lmvep', 'loxk', 'lhvee', 'loqeg', 'lvet', 'lonel', 'poee', 'lokj', 'ivoe', 'dobe', 'lveo', 'lohg', 'movg', 'loveob', 'lovemq', 'movr', 'lomk', 'ldre', 'lovyc', 'olvej', 'lqev', 'loverg', 'lovuz', 'llvv', 'lste', 'eooe', 'yovb', 'lovt', 'hovu', 'loyi', 'lovxb', 'ljvr', 'oved', 'ioveb', 'ulve', 'loveto', 'lovwf', 'toue', 'lovels', 'lvs', 'hovh', 'iovs', 'rpve', 'fole', 'lfvs', 'xqve', 'xowe', 'lovca', 'hov', 'loxy', 'qovek', 'lovoz', 'novq', 'lpveh', 'lojn', 'yooe', 'loyl', 'lola', 'lohej', 'loveiy', 'lozej', 'lzte', 'loyei', 'xhve', 'lopec', 'lrveu', 'lovelt', 'ntve', 'llvex', 'lovii', 'tofe', 'ltvj', 'lige', 'dovep', 'llvj', 'mobe', 'bore', 'vovq', 'ikve', 'uzve', 'rovl', 'lovevu', 'krve', 'cwve', 'duve', 'aovd', 'lkves', 'lovebq', 'aovh', 'yote', 'llver', 'loveal', 'eovh', 'llvz', 'lyte', 'loveqq', 'aoce', 'yole', 'lovfj', 'lobk', 'lfvet', 'lnze', 'lovean', 'wmve', 'lojv', 'toae', 'loaed', 'rose', 'lobp', 'lrze', 'lokes', 'lout', 'olvq', 'uovf', 'goqe', 'kope', 'lnre', 'llbe', 'eovk', 'lvoec', 'uovet', 'lfv', 'loveti', 'tovz', 'vovm', 'toev', 'lbvep', 'xone', 'ltvel', 'coce', 'jxve', 'vode', 'lcvev', 'lpvs', 'loveaz', 'lnne', 'zoee', 'noqe', 'lovup', 'kovez', 'lqvf', 'lovfq', 'lovene', 'llvel', 'ldte', 'lovefi', 'eoev', 'rtve', 'lgvn', 'lovut', 'lmvey', 'lovpm', 'uovec', 'ljveh', 'loueg', 'lovebb', 'novec', 'lokeh', 'lbfe', 'lovdv', 'ugve', 'jpve', 'wave', 'loveiu', 'lojey', 'sovel', 'ktve', 'lovehz', 'lohef', 'doze', 'loeva', 'lpne', 'loxi', 'lovery', 'loser', 'loqs', 'covet', 'loje', 'lxvel', 'oovu', 'loin', 'lovc', 'lkoe', 'sovs', 'lozeo', 'lozeg', 'yoie', 'lolx', 'lora', 'lfpe', 'eoveq', 'fooe', 'zoveg', 'lvveg', 'lojz', 'lovekd', 'rrve', 'lgvel', 'loxek', 'fore', 'lvod', 'loeet', 'lovewa', 'lokef', 'lop', 'lojeg', 'lsvz', 'lwva', 'covx', 'aovs', 'aovel', 'loveoj', 'lovxq', 'iovt', 'lovar', 'zoke', 'ljvt', 'nqve', 'loqet', 'dovem', 'lokr', 'lojec', 'lvvf', 'obe', 'aovk', 'lovegu', 'qhve', 'lovqu', 'logen', 'loax', 'lgze', 'losef', 'xovep', 'kdve', 'hovej', 'loyu', 'xofe', 'lojh', 'olveh', 'qovt', 'lvvey', 'bgve', 'lovega', 'fzve', 'oovs', 'leie', 'loom', 'lnvx', 'loyeq', 'lkvx', 'loveeu', 'jvve', 'lokh', 'lsye', 'lhvef', 'loued', 'loree', 'teve', 'vovef', 'lzvet', 'lvom', 'govea', 'zovew', 'lbme', 'zcve', 'lrce', 'loaea', 'lake', 'uovel', 'lovqx', 'rooe', 'zovep', 'lovcx', 'vive', 'lovww', 'boze', 'frve', 'mote', 'loii', 'lovepo', 'olvw', 'cowe', 'uovw', 'lyvj', 'lovjo', 'lovevl', 'lovege', 'liveb', 'hbve', 'aoven', 'lvoe', 'ueve', 'lovejw', 'llxe', 'tobe', 'ovx', 'luveq', 'lnte', 'lpvd', 'jyve', 'xovp', 'bovea', 'lolem', 'loveji', 'mrve', 'lovenh', 'lyme', 'luvej', 'loua', 'wovee', 'losu', 'lovetu', 'livep', 'movy', 'poue', 'lcde', 'loqec', 'leov', 'lxge', 'lyre', 'lnpe', 'loek', 'lovhe', 'lhre', 'lojea', 'lovio', 'lgvee', 'movez', 'lves', 'ljveg', 'give', 'lvp', 'lzbe', 'lhze', 'loeg', 'oovey', 'lovxs', 'lovexp', 'lovl', 'looed', 'xovi', 'zpve', 'loveyr', 'loqem', 'loxeh', 'lpde', 'lokel', 'sovw', 'qfve', 'ltvx', 'lofeg', 'loyb', 'loat', 'lpveu', 'uvoe', 'loveks', 'toie', 'losen', 'olveb', 'sover', 'lbvem', 'sone', 'yovh', 'lovgf', 'coke', 'lsveb', 'lmhe', 'loxl', 'goved', 'loaev', 'eoae', 'lgye', 'lsvy', 'lovehl', 'aooe', 'loeeh', 'lovik', 'lved', 'lpvek', 'loteh', 'sovy', 'vdve', 'loqes', 'lovk', 'olle', 'loaep', 'uovp', 'lgvey', 'lovsk', 'eovn', 'loli', 'olve', 'lohed', 'loveig', 'soke', 'loug', 'loviu', 'yzve', 'lkvf', 'lovezm', 'loqj', 'bovef', 'lovebg', 'clve', 'loqex', 'rfve', 'lbvi', 'zovex', 'lovva', 'loveoe', 'iovj', 'lmje', 'luje', 'lyven', 'loup', 'olveo', 'loyt', 'lovrm', 'phve', 'govex', 'toze', 'looz', 'xovn', 'ypve', 'lnvez', 'aoae', 'oxe', 'lovmo', 'livev', 'loms', 'lovsa', 'ldye', 'lrveh', 'lvow', 'lowes', 'lovnu', 'loveko', 'lsne', 'aovef', 'iose', 'lovjp', 'lovenw', 'lovgo', 'lwce', 'luie', 'gover', 'lovkv', 'lfvn', 'olce', 'lhqe', 'loza', 'iuve', 'lovehq', 'lomen', 'lovela', 'lyce', 'mxve', 'pooe', 'lovexv', 'lovp', 'lovec', 'loveij', 'yovt', 'lovnk', 'zovel', 'loevp', 'louei', 'nvve', 'zzve', 'rode', 'lcvet', 'dovi', 'lovax', 'lofl', 'lovj', 'soqe', 'lotes', 'loleb', 'llje', 'lozef', 'loqv', 'lofer', 'fovea', 'loij', 'lovxw', 'loveut', 'ltae', 'kjve', 'lovaw', 'anve', 'tovea', 'lovft', 'lohs', 'lojes', 'lodj', 'hpve', 'ltve', 'dose', 'loo', 'liveo', 'lood', 'lovecm', 'lcue', 'lovekm', 'lovnz', 'lovqb', 'levh', 'ljze', 'lgre', 'lovbr', 'lsvu', 'lovcj', 'cooe', 'lotp', 'govw', 'jovu', 'lived', 'lwvr', 'lovvw', 'lcvei', 'loyz', 'lbv', 'lsqe', 'lovzf', 'lnvey', 'ooze', 'lbvg', 'vmve', 'lojer', 'lfvz', 'lohu', 'loqf', 'lohx', 'llee', 'opve', 'ahve', 'lxze', 'lojez', 'lbde', 'pove', 'lodeh', 'lbvz', 'ldvep', 'ljvd', 'lkveq', 'ivve', 'dovej', 'jovd', 'lovepl', 'lopeq', 'loevs', 'vfve', 'eoveg', 'lovjn', 'movek', 'boveg', 'rovd', 'mive', 'ltev', 'qova', 'ljvv', 'lrvea', 'lvve', 'lrvl', 'covek', 'lovbv', 'lomz', 'lovcb', 'loco', 'moxe', 'loaet', 'zoje', 'livey', 'wovez', 'lovecw', 'lovetj', 'oev', 'lovqs', 'uovey', 'grve', 'hoee', 'hovi', 'novz', 'lsvx', 'roveo', 'lohem', 'lvva', 'lovebj', 'movef', 'jtve', 'lfveq', 'uoie', 'locr', 'loveab', 'loveqc', 'govv', 'cohe', 'lsre', 'cose', 'lovqz', 'lnvo', 'lolef', 'louj', 'lovefx', 'logeg', 'lune', 'lovebi', 'lovkk', 'imve', 'lwfe', 'lovyl', 'lonen', 'lxvz', 'olpe', 'toveu', 'novea', 'lofey', 'losr', 'ljvy', 'lovevo', 'lyje', 'lhveh', 'lyle', 'lovcu', 'iovc', 'lonw', 'povb', 'aoveu', 'loveku', 'loded', 'cova', 'lvov', 'nave', 'ooke', 'fave', 'govem', 'fovei', 'hovr', 'lovedv', 'fovw', 'vovz', 'lfee', 'lovn', 'lovnq', 'toce', 'movv', 'locy', 'lopp', 'lkse', 'dovu', 'loie', 'lrva', 'lgpe', 'locq', 'wohe', 'lcvb', 'lopee', 'afve', 'ovs', 'lovewi', 'lojw', 'lovedr', 'ooveb', 'liye', 'kqve', 'lcvew', 'llvb', 'lyvg', 'lqvt', 'lvvm', 'loaec', 'kmve', 'loped', 'koveg', 'loveoh', 'lzvem', 'lhvt', 'lovewl', 'come', 'movel', 'coye', 'lxver', 'loveyz', 'lovfo', 'laje', 'aovej', 'lofk', 'lrvt', 'olved', 'lovexj', 'luved', 'lokq', 'lmvz', 'oveu', 'losn', 'lwvv', 'lsse', 'lozf', 'lozel', 'lolj', 'fowe', 'loyec', 'lovebd', 'levf', 'lbvs', 'lzvs', 'lovemx', 'lvwe', 'oone', 'cve', 'ldvec', 'lobeq', 'lovuy', 'hovei', 'lojb', 'lzoe', 'losep', 'olves', 'lhvb', 'vpve', 'lewe', 'lopq', 'howe', 'mlve', 'ltvei', 'levw', 'logeb', 'lpxe', 'jose', 'owe', 'lovezq', 'lodp', 'ioveq', 'covz', 'lovhx', 'ldvek', 'lere', 'ldvm', 'lovbh', 'fovq', 'heve', 'lfved', 'lnhe', 'lovrs', 'vgve', 'lwhe', 'uoae', 'lovefb', 'lsee', 'livv', 'novg', 'yvve', 'lhveq', 'coje', 'qovc', 'lovtn', 'oowe', 'ybve', 'lovxv', 'roveq', 'lgvt', 'xoge', 'lorb', 'llvep'}\n"
     ]
    }
   ],
   "source": [
    "print(edit2(\"love\"))"
   ]
  },
  {
   "cell_type": "code",
   "execution_count": 39,
   "metadata": {
    "id": "D7eIyALIAH5O"
   },
   "outputs": [],
   "source": [
    "def correct_spelling(word, vocabulary, word_probabilities):\n",
    "  if word in vocabulary:\n",
    "    print(f\"{word} is already correctly spelt\")\n",
    "    return \n",
    "\n",
    "  suggestions = edit1(word) or edit2(word) or [word]\n",
    "  best_guesses = [w for w in suggestions if w in vocabulary]\n",
    "  return [(w, word_probabilities[w]) for w in best_guesses]"
   ]
  },
  {
   "cell_type": "code",
   "execution_count": 51,
   "metadata": {
    "colab": {
     "base_uri": "https://localhost:8080/"
    },
    "id": "rDVh2iSLCBby",
    "outputId": "54c2b2cf-0a7a-4e78-881f-7a5ad71468d4"
   },
   "outputs": [
    {
     "name": "stdout",
     "output_type": "stream",
     "text": [
      "food is already correctly spelt\n",
      "None\n"
     ]
    }
   ],
   "source": [
    "word = 'food'\n",
    "guesses = correct_spelling(word, vocabs, word_prob)\n",
    "print(guesses)"
   ]
  },
  {
   "cell_type": "code",
   "execution_count": 52,
   "metadata": {
    "id": "53qai6IdCQ6R"
   },
   "outputs": [],
   "source": [
    "#defing a class for cleaner code\n",
    "\n",
    "class SpellChecker(object):\n",
    "\n",
    "  def __init__(self, corpus_file_path):\n",
    "    with open(corpus_file_path, \"r\") as file:\n",
    "      lines = file.readlines()\n",
    "      words = []\n",
    "      for line in lines:\n",
    "        words += re.findall(r'\\w+', line.lower())\n",
    "\n",
    "    self.vocabs = set(words)\n",
    "    self.word_counts = Counter(words)\n",
    "    total_words = float(sum(self.word_counts.values()))\n",
    "    self.word_probas = {word: self.word_counts[word] / total_words for word in self.vocabs}\n",
    "\n",
    "  def _level_one_edits(self, word):\n",
    "    letters = string.ascii_lowercase\n",
    "    splits = [(word[:i], word[i:]) for i in range(len(word) + 1)]\n",
    "    deletes = [l + r[1:] for l,r in splits if r]\n",
    "    swaps = [l + r[1] + r[0] + r[2:] for l, r in splits if len(r)>1]\n",
    "    replaces = [l + c + r[1:] for l, r in splits if r for c in letters]\n",
    "    inserts = [l + c + r for l, r in splits for c in letters] \n",
    "\n",
    "    return set(deletes + swaps + replaces + inserts)\n",
    "\n",
    "  def _level_two_edits(self, word):\n",
    "    return set(e2 for e1 in self._level_one_edits(word) for e2 in self._level_one_edits(e1))\n",
    "\n",
    "  def check(self, word):\n",
    "    candidates = self._level_one_edits(word) or self._level_two_edits(word) or [word]\n",
    "    valid_candidates = [w for w in candidates if w in self.vocabs]\n",
    "    return sorted([(c, self.word_probas[c]) for c in valid_candidates], key=lambda tup: tup[1], reverse=True)\n"
   ]
  },
  {
   "cell_type": "code",
   "execution_count": 53,
   "metadata": {
    "id": "iuN-1LHzE2yd"
   },
   "outputs": [],
   "source": [
    "checker = SpellChecker(\"./shakespeare.txt\")"
   ]
  },
  {
   "cell_type": "code",
   "execution_count": 55,
   "metadata": {
    "colab": {
     "base_uri": "https://localhost:8080/"
    },
    "id": "lSecKHP7E6at",
    "outputId": "4f8a59c0-2208-4ec0-8082-c6c6bcd70fc2"
   },
   "outputs": [
    {
     "data": {
      "text/plain": [
       "[('love', 0.0023814921312922815),\n",
       " ('live', 0.0005882142388412299),\n",
       " ('lute', 2.147638194552158e-05),\n",
       " ('luce', 8.35192631214728e-06),\n",
       " ('luke', 4.772529321227017e-06),\n",
       " ('lave', 3.579396990920263e-06),\n",
       " ('lure', 2.3862646606135086e-06),\n",
       " ('leve', 1.1931323303067543e-06)]"
      ]
     },
     "execution_count": 55,
     "metadata": {
      "tags": []
     },
     "output_type": "execute_result"
    }
   ],
   "source": [
    "checker.check(\"luve\")  #probabilities in the sorted order"
   ]
  }
 ],
 "metadata": {
  "colab": {
   "collapsed_sections": [],
   "name": "AutoCorrect.ipynb",
   "provenance": []
  },
  "kernelspec": {
   "display_name": "Python 3",
   "language": "python",
   "name": "python3"
  },
  "language_info": {
   "codemirror_mode": {
    "name": "ipython",
    "version": 3
   },
   "file_extension": ".py",
   "mimetype": "text/x-python",
   "name": "python",
   "nbconvert_exporter": "python",
   "pygments_lexer": "ipython3",
   "version": "3.8.3"
  }
 },
 "nbformat": 4,
 "nbformat_minor": 1
}
